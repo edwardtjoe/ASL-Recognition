{
  "nbformat": 4,
  "nbformat_minor": 0,
  "metadata": {
    "accelerator": "GPU",
    "colab": {
      "name": "ASL.ipynb",
      "provenance": [],
      "collapsed_sections": [],
      "toc_visible": true,
      "machine_shape": "hm",
      "mount_file_id": "1SX7jFReHJUimIr5UdIXYYMjiBx3XpIys",
      "authorship_tag": "ABX9TyOZy+SD4l184PKlKd/wzlCw",
      "include_colab_link": true
    },
    "kernelspec": {
      "display_name": "Python 3",
      "name": "python3"
    },
    "language_info": {
      "name": "python"
    }
  },
  "cells": [
    {
      "cell_type": "markdown",
      "metadata": {
        "id": "view-in-github",
        "colab_type": "text"
      },
      "source": [
        "<a href=\"https://colab.research.google.com/github/edwardtjoe/ASL-Recognition/blob/main/ASL.ipynb\" target=\"_parent\"><img src=\"https://colab.research.google.com/assets/colab-badge.svg\" alt=\"Open In Colab\"/></a>"
      ]
    },
    {
      "cell_type": "markdown",
      "metadata": {
        "id": "M9zCxVfz7UEw"
      },
      "source": [
        "# Imports"
      ]
    },
    {
      "cell_type": "code",
      "metadata": {
        "colab": {
          "base_uri": "https://localhost:8080/"
        },
        "id": "HUtWB5dPrOCI",
        "outputId": "8964c562-7303-416c-8705-9985705481c8"
      },
      "source": [
        "import pandas as pd\n",
        "import numpy as np\n",
        "import os\n",
        "import re\n",
        "import matplotlib.pyplot as plt\n",
        "import cv2\n",
        "import h5py\n",
        "\n",
        "from tensorflow import keras\n",
        "from keras import backend as K\n",
        "from keras.models import Sequential, load_model, save_model\n",
        "from keras.layers import (Dense, Dropout, GRU, Flatten, Conv2D, MaxPooling2D,\n",
        "                          AveragePooling2D, GlobalMaxPooling2D, GlobalAveragePooling2D)\n",
        "from keras.optimizers import adam_v2\n",
        "from keras import utils, layers\n",
        "from keras.callbacks import ModelCheckpoint, ReduceLROnPlateau, EarlyStopping\n",
        "from keras import Model\n",
        "\n",
        "import shutil\n",
        "from keras.preprocessing.image import (load_img, \n",
        "                                       img_to_array,\n",
        "                                       ImageDataGenerator)\n",
        "from keras.applications.vgg16 import VGG16\n",
        "\n",
        "from google.colab.patches import cv2_imshow\n",
        "\n",
        "from google.colab import drive\n",
        "drive.mount('/content/drive')\n",
        "\n",
        "from keras.applications.resnet import ResNet50"
      ],
      "execution_count": 39,
      "outputs": [
        {
          "output_type": "stream",
          "name": "stdout",
          "text": [
            "Drive already mounted at /content/drive; to attempt to forcibly remount, call drive.mount(\"/content/drive\", force_remount=True).\n"
          ]
        }
      ]
    },
    {
      "cell_type": "markdown",
      "metadata": {
        "id": "Sq9RIEhhXkFg"
      },
      "source": [
        "# Part 0: Overview\n",
        "\n"
      ]
    },
    {
      "cell_type": "markdown",
      "metadata": {
        "id": "1p3VXcKJTiKK"
      },
      "source": [
        "## 0.1. Motivation/Objective\n",
        "\n",
        "American Sign Language (ASL) is one of the most commonly used sign languages in the world. By some estimates, ASL is used by about [250,000 to 500,000](https://www.gallaudet.edu/documents/Research-Support-and-International-Affairs/ASL_Users.pdf) people in North America alone. Various statistics show that those with hearing disabilities are highly disadvantaged as compared to their peers.\n",
        "\n",
        "|Category|Grouping|Normal|Disabled|Difference|\n",
        "|--------|--------|------|--------|----------|\n",
        "|Education|High School Dropout Rate|18.7%|44.4%|2.37x|\n",
        "||College Graduation Rate|12.8%|5.8%|0.45x|\n",
        "||Post College Graduation Rate|9.2%|4.8%|0.52x|\n",
        "|Employment|16+ yo|91.2%|83.9%|0.92x|\n",
        "||16 - 44 yo|82%|58%|0.71x|\n",
        "||45 - 64 yo|73%|46%|0.63x|\n",
        "|Income|$10K - $25K|26%|28%|1.08x|\n",
        "||$50K+|29%|14%|0.48x|\n",
        "\n",
        "With these statistics in mind, we should ask ourselves: beyond their physical disability, how much **more** should it cost to be disabled?\n",
        "\n",
        "That begs the question: how can we facilitate the inclusion of deaf people into society?\n",
        "\n",
        "With the rise in remote work and increased use of video conferencing tools such as Google Meet, Zoom and Microsoft Teams, one way we can help facilitate their participation is by embedding a sign language interpreter for the deaf to speak to their non-deaf peers. YouTube currently has a tool to create text captions based on sound and language recognition. Building upon that idea, this project aims to create a tool to recognize ASL sign languages to be interpreted by text captioning.\n",
        "\n",
        "However, understanding my current limits, my current goal is to train and recognize static alphabetical gestures in ASL."
      ]
    },
    {
      "cell_type": "markdown",
      "metadata": {
        "id": "xPLnmfEVT1MB"
      },
      "source": [
        "## 0.2. Datasets\n",
        "\n",
        "|No.|Folder name|Description|\n",
        "|---|-----------|-----------|\n",
        "|1.|Gestures|Dataset of 26 gestures split into training and testing set for model training|\n",
        "|2.|Model|Various models trained with different hyperparameters|\n",
        "|3.|Results|Dataset of results after model is tested onto the testing set (CSV)|\n",
        "|4.|History|Model metrics (accuracy, loss, val_accuracy, val_loss)|\n",
        "|5.|CreateGestures.py|Python file to create dataset.|"
      ]
    },
    {
      "cell_type": "markdown",
      "metadata": {
        "id": "itiDqZILUTZZ"
      },
      "source": [
        "## 0.3. Project Flow\n",
        "\n",
        "Steps:\n",
        "1. Prepare dataset created using ```CreateGestures.py```.\n",
        "2. Train model\n",
        "3. Test model\n",
        "4. Observations/Misclassification Analysis\n",
        "5. Conclusions and recommendations.\n",
        "\n",
        "Model creation and evaluation will be split into two main parts. In the first part, I train a model for 5 gestures using VGG16. Then I test the model, evaluate the results and note some observations.\n",
        "\n",
        "In the second part, I conduct the same processes as the first part, but the model will be trained on all 26 alphabets and gestures."
      ]
    },
    {
      "cell_type": "markdown",
      "metadata": {
        "id": "OTdb7wzlJ0n8"
      },
      "source": [
        "# Part 1: Prepare Dataset\n",
        "\n",
        "This was the dataset created from CreateGestures.py. It contains a total of 52,000 images consisting of 2,000 images per gesture (per alphabet).\n"
      ]
    },
    {
      "cell_type": "markdown",
      "metadata": {
        "id": "-hRtSyBobUSf"
      },
      "source": [
        "## 1.1. Set training and testing folder path\n",
        "\n",
        "I set the training and testing path for the folders to be used later on for training and testing the model using ImageDataGenerator. For consistency, I am also setting the image dimensions to 224, 224 for model fitting in Part 2."
      ]
    },
    {
      "cell_type": "code",
      "metadata": {
        "id": "5hDoKr-dMeWu"
      },
      "source": [
        "train_path = '/content/drive/MyDrive/Colab/ASL/gestures/train'\n",
        "test_path = '/content/drive/MyDrive/Colab/ASL/gestures/test'\n",
        "image_x, image_y = 224, 224"
      ],
      "execution_count": 40,
      "outputs": []
    },
    {
      "cell_type": "markdown",
      "metadata": {
        "id": "BN_hFHoc7dQq"
      },
      "source": [
        "## 1.2. Split Train and Test\n",
        "\n",
        "A few things are going on here. First, we create a function to create folders if the folder does not exist. This function will be used to split the testing set from the training set for a blind test of the model that will be made.\n"
      ]
    },
    {
      "cell_type": "code",
      "metadata": {
        "id": "DoXYI1ImEDzH"
      },
      "source": [
        "def create_folder(folder_name):\n",
        "    if not os.path.exists(folder_name):\n",
        "        os.mkdir(folder_name)"
      ],
      "execution_count": null,
      "outputs": []
    },
    {
      "cell_type": "markdown",
      "metadata": {
        "id": "UhbBWfIzXD49"
      },
      "source": [
        "I randomly chose 20% of the original training images to be placed onto the testing set. To fix the images moved onto the testing set, I set a ranodm seed and selected 400 random numbers which relates to the image number, i.e. if '1' is selected, then image '1.jpg' will be moved from the training set into the testing set."
      ]
    },
    {
      "cell_type": "code",
      "metadata": {
        "id": "v2eW504tGxnp"
      },
      "source": [
        "np.random.seed(42)\n",
        "jpg_list = np.random.choice([i for i in range(1, 2001)], 400, replace=False)"
      ],
      "execution_count": 41,
      "outputs": []
    },
    {
      "cell_type": "markdown",
      "metadata": {
        "id": "Wjet8M0TXoXP"
      },
      "source": [
        "The cell below moves the image numbers selected from jpg_list onto the testing set. A total of 10,400 images were moved into the training set, consisting of 400 images per alphabet gesture."
      ]
    },
    {
      "cell_type": "code",
      "metadata": {
        "id": "V2hDqRSD8WAV"
      },
      "source": [
        "alphabet_numeric = range(1, 27)                   # A-Z: 1-26\n",
        "\n",
        "for number in alphabet_numeric:\n",
        "    for jpg_num in jpg_list:\n",
        "        file_path = '/content/drive/MyDrive/Colab/ASL/gestures/train/' + str(number) + '/' + str(jpg_num) + '.jpg'\n",
        "        dest_path = '/content/drive/MyDrive/Colab/ASL/gestures/test/' + str(number) + '/'\n",
        "        if os.path.exists(dest_path):\n",
        "            shutil.move(file_path, dest_path)\n",
        "            print(f'path exist, alphabet number: {number}')\n",
        "        else:\n",
        "            create_folder(dest_path)\n",
        "            print(f'no path, alphabet number: {number}')\n",
        "            if os.path.exists(dest_path):\n",
        "                print(f'path created, alphabet number: {number}')\n",
        "                shutil.move(file_path, dest_path)\n",
        "            else:\n",
        "                print(f'path not created, alphabet number: {number}')\n",
        "            "
      ],
      "execution_count": null,
      "outputs": []
    },
    {
      "cell_type": "markdown",
      "metadata": {
        "id": "bKylgbbD7nsm"
      },
      "source": [
        "## 1.3. Split Train and Valid\n",
        "\n",
        "ImageDataGenerator splits the remaining images from the train folder onto a 'train' and a 'validation' set. The validation set will be used to test the model created by using the training set. I selected 25% of the remaining training set to be a validation set, but this number can be adjusted according to the user's preference."
      ]
    },
    {
      "cell_type": "code",
      "metadata": {
        "colab": {
          "base_uri": "https://localhost:8080/"
        },
        "id": "RpvlGW8PMhwB",
        "outputId": "4f14d963-5764-4afb-d1b3-972a9c9b1cf5"
      },
      "source": [
        "train_datagen = ImageDataGenerator(rescale = 1./255,\n",
        "                                   validation_split=0.25\n",
        "                                   )\n",
        "\n",
        "train_gen = train_datagen.flow_from_directory(\n",
        "    directory=train_path,                            # Training directory\n",
        "    target_size=(image_x, image_y),                  # Resize to (224, 224) for vgg16 model\n",
        "    seed=42,\n",
        "    subset='training',\n",
        "    class_mode='categorical',                        # 26 categories: A-Z\n",
        "    color_mode='rgb',                                # Convert back from grayscale to RGB\n",
        "    shuffle=True\n",
        ")\n",
        "\n",
        "validation_gen = train_datagen.flow_from_directory(\n",
        "    directory=train_path,                            # Training directory\n",
        "    target_size=(image_x, image_y),                  # Resize to (224, 224) for vgg16 model\n",
        "    seed=42,\n",
        "    subset='validation',\n",
        "    class_mode='categorical',                        # 26 categories: A-Z\n",
        "    color_mode='rgb',                                # Convert back from grayscale to RGB\n",
        "    shuffle=True\n",
        ")\n"
      ],
      "execution_count": null,
      "outputs": [
        {
          "output_type": "stream",
          "name": "stdout",
          "text": [
            "Found 31200 images belonging to 26 classes.\n",
            "Found 10400 images belonging to 26 classes.\n"
          ]
        }
      ]
    },
    {
      "cell_type": "markdown",
      "metadata": {
        "id": "BKBP94qPZUsA"
      },
      "source": [
        "# Part 2. Presets and Functions"
      ]
    },
    {
      "cell_type": "markdown",
      "metadata": {
        "id": "jNhPIoOesX7Z"
      },
      "source": [
        "## 2.1. Presets\n",
        "Before training the model, I am setting several presets to be used in training the model.\n",
        "\n",
        "Initially, I had used ```batch_size = 32```, which continuously resulted in a val_accuracy of 3.84% (aka 1 in 26) when training the model on all alphabets. This is equal to just choosing a random alphabet out of the 26 that we have, which provided absolutely no predictive value. This happens because if each batch has just 32 observations while there are 26 classes, each class would be represented in the batch just once on average. Due to the lack of representation of each class in the batch, the model did not train well. As such, I used ```batch_size = 256``` to allow for about 10 gestures per class to be present in every batch.\n",
        "\n",
        "As for ```steps_per_epoch```, I had considered using the whole training set, but it would have taken too much time to train the model. Hence, I used the total number of observations divided by the batch size to train the model.\n",
        "\n",
        "Meanwhile, since the validation set had just 25% of the total training set, ```validation_steps``` was set to default. This allowed the validation set to be trained much better."
      ]
    },
    {
      "cell_type": "code",
      "metadata": {
        "id": "G7MrbOBnsVkV"
      },
      "source": [
        "total_train = len(train_gen.filenames)\n",
        "total_valid = len(validation_gen.filenames)\n",
        "batch_size = 256"
      ],
      "execution_count": null,
      "outputs": []
    },
    {
      "cell_type": "markdown",
      "metadata": {
        "id": "Ffqx1USiu06k"
      },
      "source": [
        "## 2.2. Model Training Function\n",
        "\n",
        "These functions were made to help me re-run models much faster. Rather than creating new models (and writing the codes again), using this function saved me a lot more time to optimize the models."
      ]
    },
    {
      "cell_type": "code",
      "metadata": {
        "id": "DVYUeo0AZlWB"
      },
      "source": [
        "def model_instantiate(model_preset, add_layers, version, dropout_rate=0, gestures=26, epochs=50):\n",
        "    '''\n",
        "    Instantiate VGG16 model with added layers and dropout rate.\n",
        "\n",
        "    model: Either VGG16 or ResNet50\n",
        "    add_layers: List of layer input sizes to add in ascending order. i.e. [32, 64....]\n",
        "    dropout_rate: dropout rate to be used. Default=0\n",
        "    gesures: number classes in output\n",
        "    version: version number to save model and checkpoints\n",
        "    epochs: number of epochs to test\n",
        "    '''\n",
        "\n",
        "    # Setting file name for model checkpoint and to save model\n",
        "    filename = f'/content/drive/MyDrive/Colab/ASL/models/{model_preset}_{version}.h5'\n",
        "\n",
        "    # Instantiating sequential model\n",
        "    model = Sequential()\n",
        "\n",
        "    # There are only two model presets, VGG16 or ResNet50, so I used if-else.\n",
        "    if model_preset == 'VGG16':\n",
        "        model.add(VGG16(\n",
        "            include_top=False,\n",
        "            weights='imagenet',\n",
        "            input_shape=(image_x, image_y, 3)))\n",
        "    else:\n",
        "        model.add(ResNet50(\n",
        "            include_top=False,\n",
        "            weights='imagenet',\n",
        "            input_shape=(image_x, image_y, 3)))\n",
        "        \n",
        "    # Freezing pretrained models\n",
        "    for layer in model.layers:\n",
        "        layer.trainable = False\n",
        "\n",
        "    # Pooling model\n",
        "    model.add(GlobalMaxPooling2D())\n",
        "\n",
        "    # Adding layers to preset model\n",
        "    for each_layer in add_layers[::-1]:\n",
        "        model.add(Dense(each_layer, activation='relu'))\n",
        "        model.add(Dropout(dropout_rate))\n",
        "\n",
        "    # Setting model output size\n",
        "    model.add(Dense(gestures, activation='softmax'))\n",
        "    model.compile(optimizer='adam', loss=keras.losses.categorical_crossentropy, metrics=['accuracy'])\n",
        "    summary = model.summary()\n",
        "    history = model.fit(\n",
        "        train_gen,\n",
        "        steps_per_epoch=(total_train//batch_size),\n",
        "        epochs = epochs,\n",
        "        validation_data=validation_gen,\n",
        "        callbacks=callbacks_list(filename),\n",
        "        batch_size = batch_size,\n",
        "        verbose = 1)\n",
        "    \n",
        "    # Saving model\n",
        "    model.save(filename, save_format='h5')\n",
        "    return history, model, summary"
      ],
      "execution_count": null,
      "outputs": []
    },
    {
      "cell_type": "markdown",
      "metadata": {
        "id": "TsYKv2kjvosr"
      },
      "source": [
        "## 2.3. Checkpoints Function\n",
        "\n",
        "Three callback functions were used: ```EarlyStopping```, ```ReduceLROnPlateau``` and ```ModelCheckpoint```.\n",
        "1. Early stopping causes the model to stop when the ```patience``` condition was met. I set ```patience = 7```, which means that if the model did not improve after 7 epochs, the model will stop learning.\n",
        "2. ReduceLROnPlateau reduces the learning rate when there is no improvement when the ```patience``` condition was met. I set ```patience = 3```  and ```factor = 0.6```, which means that the model will reduce its learning rate to 0.6x when the model does not improve after 3 epochs. I had set the ```patience - 7``` to allow learning rate to reduce twice and then train on one more epoch before stopping. Visually, it's as such:\n",
        "> Early stopping patience (7) = 2 x Learning rate reduction (2 x 3) + 1 more epoch (1)\n",
        "3. ModelCheckpoint is used to set our optimization criteria. Since my aim is to best predict an input image, I set ```monitor = val_accuracy```."
      ]
    },
    {
      "cell_type": "code",
      "metadata": {
        "id": "aqlH0HAivn1r"
      },
      "source": [
        "def callbacks_list(filename):\n",
        "    '''\n",
        "    List of callbacks used for model\n",
        "    version_number: Model version number. Used to save the checkpoints to be used in callbacks. \n",
        "    '''\n",
        "    early = EarlyStopping(\n",
        "        monitor='val_accuracy', \n",
        "        patience=7,\n",
        "        verbose=1,\n",
        "        restore_best_weights=True,\n",
        "        mode='max')\n",
        "    lr_reduce = ReduceLROnPlateau(\n",
        "        monitor='val_accuracy', \n",
        "        factor=0.6, \n",
        "        patience=3, \n",
        "        verbose=1, \n",
        "        mode='max', \n",
        "        min_lr=5e-5)\n",
        "    model_checkpoint = ModelCheckpoint(\n",
        "        filepath=filename,\n",
        "        monitor='val_accuracy',\n",
        "        save_best_only=True,\n",
        "        mode='max',                             # We want to find maximum val_acc\n",
        "        verbose=1)\n",
        "    return early, lr_reduce, model_checkpoint"
      ],
      "execution_count": null,
      "outputs": []
    },
    {
      "cell_type": "markdown",
      "metadata": {
        "id": "TjwIBrRP3KnN"
      },
      "source": [
        "## 2.4. Save History Metrics"
      ]
    },
    {
      "cell_type": "code",
      "metadata": {
        "id": "DWMWfLoP3KFw"
      },
      "source": [
        "def history_dataframe(history, version):\n",
        "    '''\n",
        "    Create dataframe of history metrics\n",
        "    History: Chosen history after model fitting\n",
        "    Version: File version number\n",
        "    '''\n",
        "    acc = pd.DataFrame(history.history['accuracy'], columns=['accuracy'])\n",
        "    val_acc = pd.DataFrame(history.history['val_accuracy'], columns=['val_accuracy'])\n",
        "    loss = pd.DataFrame(history.history['loss'], columns=['loss'])\n",
        "    val_loss = pd.DataFrame(history.history['val_loss'], columns=['val_loss'])\n",
        "    merged = pd.concat(objs=(acc, val_acc, loss, val_loss), axis=1)\n",
        "    merged['version'] = version\n",
        "    merged.reset_index(inplace=True)\n",
        "    merged['index'] = merged['index'].map(lambda x: int(x)+1)\n",
        "    merged = merged.rename(columns={'index': 'epoch'})\n",
        "    merged.to_csv(f'/content/drive/MyDrive/Colab/ASL/history/history_v{version}.csv', index=False)\n",
        "    return merged"
      ],
      "execution_count": null,
      "outputs": []
    },
    {
      "cell_type": "markdown",
      "metadata": {
        "id": "Mv98FcnEwY0l"
      },
      "source": [
        "## 2.5. Metrics Plot Function"
      ]
    },
    {
      "cell_type": "code",
      "metadata": {
        "id": "l0bjjfeawdCQ"
      },
      "source": [
        "def plot_metric(history, metric):\n",
        "    '''\n",
        "    Plots metrics of chosen history\n",
        "    History: Chosen history after model fitting\n",
        "    Metric: Either 'accuracy' or 'loss'\n",
        "    '''\n",
        "\n",
        "    metric_score = history.history[metric]\n",
        "    val_metric_score = history.history[f'val_{metric}']\n",
        "    epochs = range(1, len(history.history[metric]) + 1)\n",
        "    plt.plot(epochs, metric_score, 'g', label=f'Training {metric}')\n",
        "    plt.plot(epochs, val_metric_score, 'b', label=f'Validation {metric}')\n",
        "    plt.xlabel('Epochs')\n",
        "    plt.ylabel(metric)\n",
        "    plt.legend()\n",
        "    return plt.show()"
      ],
      "execution_count": null,
      "outputs": []
    },
    {
      "cell_type": "markdown",
      "metadata": {
        "id": "rVPvS0cTvwMq"
      },
      "source": [
        "# Part 3: Train Models"
      ]
    },
    {
      "cell_type": "markdown",
      "metadata": {
        "id": "8-lXStixPEtc"
      },
      "source": [
        "## 3.1. VGG16\n"
      ]
    },
    {
      "cell_type": "markdown",
      "metadata": {
        "id": "1Elyp8NwZZv8"
      },
      "source": [
        "### 3.1.1. Optimized Model\n",
        "\n",
        "I used a range of numbers to optimize the function, including increasing and adjusting these hyperparameters:\n",
        "\n",
        "1. Freezing/Unfreezing pre-trained model\n",
        "2. Adding/Decreasing layers\n",
        "3. Dropout rate\n"
      ]
    },
    {
      "cell_type": "code",
      "metadata": {
        "colab": {
          "base_uri": "https://localhost:8080/"
        },
        "id": "ajo1j-7Ah004",
        "outputId": "0f59bc55-b5d1-4ba4-dd59-0fac6a17cd39"
      },
      "source": [
        "add_4 = [64, 128, 256, 512]\n",
        "history, model, summary = model_instantiate(\n",
        "    model_preset = 'VGG16',\n",
        "    add_layers = add_4,\n",
        "    dropout_rate=0.25,\n",
        "    version=1234,\n",
        "    gestures=26,\n",
        "    epochs=50)"
      ],
      "execution_count": null,
      "outputs": [
        {
          "output_type": "stream",
          "name": "stdout",
          "text": [
            "Model: \"sequential_2\"\n",
            "_________________________________________________________________\n",
            " Layer (type)                Output Shape              Param #   \n",
            "=================================================================\n",
            " vgg16 (Functional)          (None, 7, 7, 512)         14714688  \n",
            "                                                                 \n",
            " global_max_pooling2d_2 (Glo  (None, 512)              0         \n",
            " balMaxPooling2D)                                                \n",
            "                                                                 \n",
            " dense_10 (Dense)            (None, 64)                32832     \n",
            "                                                                 \n",
            " dropout_8 (Dropout)         (None, 64)                0         \n",
            "                                                                 \n",
            " dense_11 (Dense)            (None, 26)                1690      \n",
            "                                                                 \n",
            "=================================================================\n",
            "Total params: 14,749,210\n",
            "Trainable params: 34,522\n",
            "Non-trainable params: 14,714,688\n",
            "_________________________________________________________________\n",
            "Epoch 1/5\n",
            "121/121 [==============================] - ETA: 0s - loss: 3.0039 - accuracy: 0.1395\n",
            "Epoch 00001: val_accuracy improved from -inf to 0.47471, saving model to /content/drive/MyDrive/Colab/ASL/model/VGG16_1234.h5\n",
            "121/121 [==============================] - 558s 5s/step - loss: 3.0039 - accuracy: 0.1395 - val_loss: 2.4788 - val_accuracy: 0.4747 - lr: 0.0010\n",
            "Epoch 2/5\n",
            "121/121 [==============================] - ETA: 0s - loss: 2.1748 - accuracy: 0.3838\n",
            "Epoch 00002: val_accuracy improved from 0.47471 to 0.70317, saving model to /content/drive/MyDrive/Colab/ASL/model/VGG16_1234.h5\n",
            "121/121 [==============================] - 504s 4s/step - loss: 2.1748 - accuracy: 0.3838 - val_loss: 1.6631 - val_accuracy: 0.7032 - lr: 0.0010\n",
            "Epoch 3/5\n",
            "121/121 [==============================] - ETA: 0s - loss: 1.6524 - accuracy: 0.5315\n",
            "Epoch 00003: val_accuracy improved from 0.70317 to 0.82125, saving model to /content/drive/MyDrive/Colab/ASL/model/VGG16_1234.h5\n",
            "121/121 [==============================] - 422s 3s/step - loss: 1.6524 - accuracy: 0.5315 - val_loss: 1.1868 - val_accuracy: 0.8213 - lr: 0.0010\n",
            "Epoch 4/5\n",
            "121/121 [==============================] - ETA: 0s - loss: 1.3123 - accuracy: 0.6237\n",
            "Epoch 00004: val_accuracy improved from 0.82125 to 0.86356, saving model to /content/drive/MyDrive/Colab/ASL/model/VGG16_1234.h5\n",
            "121/121 [==============================] - 388s 3s/step - loss: 1.3123 - accuracy: 0.6237 - val_loss: 0.9041 - val_accuracy: 0.8636 - lr: 0.0010\n",
            "Epoch 5/5\n",
            "121/121 [==============================] - ETA: 0s - loss: 1.1211 - accuracy: 0.6751\n",
            "Epoch 00005: val_accuracy improved from 0.86356 to 0.90144, saving model to /content/drive/MyDrive/Colab/ASL/model/VGG16_1234.h5\n",
            "121/121 [==============================] - 349s 3s/step - loss: 1.1211 - accuracy: 0.6751 - val_loss: 0.7093 - val_accuracy: 0.9014 - lr: 0.0010\n"
          ]
        }
      ]
    },
    {
      "cell_type": "markdown",
      "metadata": {
        "id": "ngk1UqQ0dMe6"
      },
      "source": [
        "For the optimized model, the number of trainable parameters were 436,826, which represented 4 added layers of 64, 128, 256 and 512.\n",
        "\n",
        "Looking at the history in a dataframe, we get:"
      ]
    },
    {
      "cell_type": "markdown",
      "metadata": {
        "id": "4nNbUJUYO4tf"
      },
      "source": [
        "### 3.1.2.Save History"
      ]
    },
    {
      "cell_type": "code",
      "metadata": {
        "colab": {
          "base_uri": "https://localhost:8080/",
          "height": 204
        },
        "id": "HSlUFyLaclQT",
        "outputId": "d3e30ffd-50d0-4cc6-b576-e87e6c23edaf"
      },
      "source": [
        "history_dataframe(history, 'VGG16')"
      ],
      "execution_count": null,
      "outputs": [
        {
          "output_type": "execute_result",
          "data": {
            "text/html": [
              "<div>\n",
              "<style scoped>\n",
              "    .dataframe tbody tr th:only-of-type {\n",
              "        vertical-align: middle;\n",
              "    }\n",
              "\n",
              "    .dataframe tbody tr th {\n",
              "        vertical-align: top;\n",
              "    }\n",
              "\n",
              "    .dataframe thead th {\n",
              "        text-align: right;\n",
              "    }\n",
              "</style>\n",
              "<table border=\"1\" class=\"dataframe\">\n",
              "  <thead>\n",
              "    <tr style=\"text-align: right;\">\n",
              "      <th></th>\n",
              "      <th>epoch</th>\n",
              "      <th>accuracy</th>\n",
              "      <th>val_accuracy</th>\n",
              "      <th>loss</th>\n",
              "      <th>val_loss</th>\n",
              "      <th>version</th>\n",
              "    </tr>\n",
              "  </thead>\n",
              "  <tbody>\n",
              "    <tr>\n",
              "      <th>0</th>\n",
              "      <td>1</td>\n",
              "      <td>0.139463</td>\n",
              "      <td>0.474712</td>\n",
              "      <td>3.003901</td>\n",
              "      <td>2.478834</td>\n",
              "      <td>trial</td>\n",
              "    </tr>\n",
              "    <tr>\n",
              "      <th>1</th>\n",
              "      <td>2</td>\n",
              "      <td>0.383781</td>\n",
              "      <td>0.703173</td>\n",
              "      <td>2.174834</td>\n",
              "      <td>1.663108</td>\n",
              "      <td>trial</td>\n",
              "    </tr>\n",
              "    <tr>\n",
              "      <th>2</th>\n",
              "      <td>3</td>\n",
              "      <td>0.531508</td>\n",
              "      <td>0.821250</td>\n",
              "      <td>1.652374</td>\n",
              "      <td>1.186769</td>\n",
              "      <td>trial</td>\n",
              "    </tr>\n",
              "    <tr>\n",
              "      <th>3</th>\n",
              "      <td>4</td>\n",
              "      <td>0.623709</td>\n",
              "      <td>0.863558</td>\n",
              "      <td>1.312279</td>\n",
              "      <td>0.904126</td>\n",
              "      <td>trial</td>\n",
              "    </tr>\n",
              "    <tr>\n",
              "      <th>4</th>\n",
              "      <td>5</td>\n",
              "      <td>0.675103</td>\n",
              "      <td>0.901442</td>\n",
              "      <td>1.121134</td>\n",
              "      <td>0.709312</td>\n",
              "      <td>trial</td>\n",
              "    </tr>\n",
              "  </tbody>\n",
              "</table>\n",
              "</div>"
            ],
            "text/plain": [
              "   epoch  accuracy  val_accuracy      loss  val_loss version\n",
              "0      1  0.139463      0.474712  3.003901  2.478834   trial\n",
              "1      2  0.383781      0.703173  2.174834  1.663108   trial\n",
              "2      3  0.531508      0.821250  1.652374  1.186769   trial\n",
              "3      4  0.623709      0.863558  1.312279  0.904126   trial\n",
              "4      5  0.675103      0.901442  1.121134  0.709312   trial"
            ]
          },
          "metadata": {},
          "execution_count": 36
        }
      ]
    },
    {
      "cell_type": "markdown",
      "metadata": {
        "id": "9fkrWWA5O0wd"
      },
      "source": [
        "### 3.1.3. Plot Metrics"
      ]
    },
    {
      "cell_type": "code",
      "metadata": {
        "colab": {
          "base_uri": "https://localhost:8080/",
          "height": 541
        },
        "id": "czW84sYnc2EO",
        "outputId": "148149cd-845e-4ece-c989-5d63dcc9fcbd"
      },
      "source": [
        "plot_metric(history, 'accuracy')\n",
        "plot_metric(history, 'loss')"
      ],
      "execution_count": null,
      "outputs": [
        {
          "output_type": "display_data",
          "data": {
            "image/png": "[encoded data removed]",
            "text/plain": [
              "<Figure size 432x288 with 1 Axes>"
            ]
          },
          "metadata": {
            "needs_background": "light"
          }
        },
        {
          "output_type": "display_data",
          "data": {
            "image/png": "[encoded data removed]",
            "text/plain": [
              "<Figure size 432x288 with 1 Axes>"
            ]
          },
          "metadata": {
            "needs_background": "light"
          }
        }
      ]
    },
    {
      "cell_type": "markdown",
      "metadata": {
        "id": "u3YLF-AtdRgF"
      },
      "source": [
        "Plotting ```accuracy``` and ```loss```, there seemed to be a large divergence between training metric and validation metric in the initial epochs, which concurrently decreased at higher epoch numbers.\n",
        "\n",
        "**Observations**\n",
        "1. I found was that unfreezing the VGG16 model did not affect much of the accuracy in the later epochs, so I decided to freeze them\n",
        "2. There was a need to balance the number of added layers and dropout rates to adjust for underfitting and overfitting.\n",
        "3. A higher number of layers needed to be added to increase bias and predictive power.\n",
        "4. However, with the increase in bias, there was a need to adjust the dropout rate accordingly.\n",
        "5. When dropout rates were too high or too low, the model was either too underfit or overfit. I found that the optimized model used a constant dropout of 0.25."
      ]
    },
    {
      "cell_type": "markdown",
      "metadata": {
        "id": "fF4GkLZhPR5s"
      },
      "source": [
        "## 3.2. ResNet50\n"
      ]
    },
    {
      "cell_type": "markdown",
      "metadata": {
        "id": "gKqvGSO0sdR7"
      },
      "source": [
        "### 3.2.1. Optimized Model\n",
        "\n",
        "Similar to the VGG16 model, several hyperparameters adjusted:\n",
        "\n",
        "1. Freezing/Unfreezing pre-trained model\n",
        "2. Adding/Decreasing layers\n",
        "3. Dropout rate"
      ]
    },
    {
      "cell_type": "code",
      "metadata": {
        "colab": {
          "base_uri": "https://localhost:8080/",
          "height": 936
        },
        "id": "146bGZBbOiUg",
        "outputId": "0d879272-c097-4559-b56d-65312f608970"
      },
      "source": [
        "add_4 = [64, 128, 256, 512]\n",
        "history, model, summary = model_instantiate(\n",
        "    model_preset = 'ResNet50',\n",
        "    add_layers = add_4,\n",
        "    dropout_rate=0.4,\n",
        "    version='resnet50',\n",
        "    gestures=26,\n",
        "    epochs=50)"
      ],
      "execution_count": null,
      "outputs": [
        {
          "output_type": "stream",
          "name": "stdout",
          "text": [
            "Model: \"sequential_2\"\n",
            "_________________________________________________________________\n",
            " Layer (type)                Output Shape              Param #   \n",
            "=================================================================\n",
            " resnet50 (Functional)       (None, 7, 7, 2048)        23587712  \n",
            "                                                                 \n",
            " global_max_pooling2d_2 (Glo  (None, 2048)             0         \n",
            " balMaxPooling2D)                                                \n",
            "                                                                 \n",
            " dense_10 (Dense)            (None, 512)               1049088   \n",
            "                                                                 \n",
            " dropout_8 (Dropout)         (None, 512)               0         \n",
            "                                                                 \n",
            " dense_11 (Dense)            (None, 256)               131328    \n",
            "                                                                 \n",
            " dropout_9 (Dropout)         (None, 256)               0         \n",
            "                                                                 \n",
            " dense_12 (Dense)            (None, 128)               32896     \n",
            "                                                                 \n",
            " dropout_10 (Dropout)        (None, 128)               0         \n",
            "                                                                 \n",
            " dense_13 (Dense)            (None, 64)                8256      \n",
            "                                                                 \n",
            " dropout_11 (Dropout)        (None, 64)                0         \n",
            "                                                                 \n",
            " dense_14 (Dense)            (None, 26)                1690      \n",
            "                                                                 \n",
            "=================================================================\n",
            "Total params: 24,810,970\n",
            "Trainable params: 1,223,258\n",
            "Non-trainable params: 23,587,712\n",
            "_________________________________________________________________\n",
            "Epoch 1/50\n",
            "121/121 [==============================] - ETA: 0s - loss: 3.4335 - accuracy: 0.0532"
          ]
        },
        {
          "output_type": "error",
          "ename": "KeyboardInterrupt",
          "evalue": "ignored",
          "traceback": [
            "\u001b[0;31m---------------------------------------------------------------------------\u001b[0m",
            "\u001b[0;31mKeyboardInterrupt\u001b[0m                         Traceback (most recent call last)",
            "\u001b[0;32m<ipython-input-21-8479f6105aed>\u001b[0m in \u001b[0;36m<module>\u001b[0;34m()\u001b[0m\n\u001b[1;32m      6\u001b[0m     \u001b[0mversion\u001b[0m\u001b[0;34m=\u001b[0m\u001b[0;34m'resnet50'\u001b[0m\u001b[0;34m,\u001b[0m\u001b[0;34m\u001b[0m\u001b[0;34m\u001b[0m\u001b[0m\n\u001b[1;32m      7\u001b[0m     \u001b[0mgestures\u001b[0m\u001b[0;34m=\u001b[0m\u001b[0;36m26\u001b[0m\u001b[0;34m,\u001b[0m\u001b[0;34m\u001b[0m\u001b[0;34m\u001b[0m\u001b[0m\n\u001b[0;32m----> 8\u001b[0;31m     epochs=50)\n\u001b[0m",
            "\u001b[0;32m<ipython-input-17-022ee528a228>\u001b[0m in \u001b[0;36mmodel_instantiate\u001b[0;34m(model_preset, add_layers, version, dropout_rate, gestures, epochs)\u001b[0m\n\u001b[1;32m     52\u001b[0m         \u001b[0mcallbacks\u001b[0m\u001b[0;34m=\u001b[0m\u001b[0mcallbacks_list\u001b[0m\u001b[0;34m(\u001b[0m\u001b[0mfilename\u001b[0m\u001b[0;34m)\u001b[0m\u001b[0;34m,\u001b[0m\u001b[0;34m\u001b[0m\u001b[0;34m\u001b[0m\u001b[0m\n\u001b[1;32m     53\u001b[0m         \u001b[0mbatch_size\u001b[0m \u001b[0;34m=\u001b[0m \u001b[0mbatch_size\u001b[0m\u001b[0;34m,\u001b[0m\u001b[0;34m\u001b[0m\u001b[0;34m\u001b[0m\u001b[0m\n\u001b[0;32m---> 54\u001b[0;31m         verbose = 1)\n\u001b[0m\u001b[1;32m     55\u001b[0m \u001b[0;34m\u001b[0m\u001b[0m\n\u001b[1;32m     56\u001b[0m     \u001b[0;31m# Saving model\u001b[0m\u001b[0;34m\u001b[0m\u001b[0;34m\u001b[0m\u001b[0;34m\u001b[0m\u001b[0m\n",
            "\u001b[0;32m/usr/local/lib/python3.7/dist-packages/keras/utils/traceback_utils.py\u001b[0m in \u001b[0;36merror_handler\u001b[0;34m(*args, **kwargs)\u001b[0m\n\u001b[1;32m     62\u001b[0m     \u001b[0mfiltered_tb\u001b[0m \u001b[0;34m=\u001b[0m \u001b[0;32mNone\u001b[0m\u001b[0;34m\u001b[0m\u001b[0;34m\u001b[0m\u001b[0m\n\u001b[1;32m     63\u001b[0m     \u001b[0;32mtry\u001b[0m\u001b[0;34m:\u001b[0m\u001b[0;34m\u001b[0m\u001b[0;34m\u001b[0m\u001b[0m\n\u001b[0;32m---> 64\u001b[0;31m       \u001b[0;32mreturn\u001b[0m \u001b[0mfn\u001b[0m\u001b[0;34m(\u001b[0m\u001b[0;34m*\u001b[0m\u001b[0margs\u001b[0m\u001b[0;34m,\u001b[0m \u001b[0;34m**\u001b[0m\u001b[0mkwargs\u001b[0m\u001b[0;34m)\u001b[0m\u001b[0;34m\u001b[0m\u001b[0;34m\u001b[0m\u001b[0m\n\u001b[0m\u001b[1;32m     65\u001b[0m     \u001b[0;32mexcept\u001b[0m \u001b[0mException\u001b[0m \u001b[0;32mas\u001b[0m \u001b[0me\u001b[0m\u001b[0;34m:\u001b[0m  \u001b[0;31m# pylint: disable=broad-except\u001b[0m\u001b[0;34m\u001b[0m\u001b[0;34m\u001b[0m\u001b[0m\n\u001b[1;32m     66\u001b[0m       \u001b[0mfiltered_tb\u001b[0m \u001b[0;34m=\u001b[0m \u001b[0m_process_traceback_frames\u001b[0m\u001b[0;34m(\u001b[0m\u001b[0me\u001b[0m\u001b[0;34m.\u001b[0m\u001b[0m__traceback__\u001b[0m\u001b[0;34m)\u001b[0m\u001b[0;34m\u001b[0m\u001b[0;34m\u001b[0m\u001b[0m\n",
            "\u001b[0;32m/usr/local/lib/python3.7/dist-packages/keras/engine/training.py\u001b[0m in \u001b[0;36mfit\u001b[0;34m(self, x, y, batch_size, epochs, verbose, callbacks, validation_split, validation_data, shuffle, class_weight, sample_weight, initial_epoch, steps_per_epoch, validation_steps, validation_batch_size, validation_freq, max_queue_size, workers, use_multiprocessing)\u001b[0m\n\u001b[1;32m   1261\u001b[0m               \u001b[0muse_multiprocessing\u001b[0m\u001b[0;34m=\u001b[0m\u001b[0muse_multiprocessing\u001b[0m\u001b[0;34m,\u001b[0m\u001b[0;34m\u001b[0m\u001b[0;34m\u001b[0m\u001b[0m\n\u001b[1;32m   1262\u001b[0m               \u001b[0mreturn_dict\u001b[0m\u001b[0;34m=\u001b[0m\u001b[0;32mTrue\u001b[0m\u001b[0;34m,\u001b[0m\u001b[0;34m\u001b[0m\u001b[0;34m\u001b[0m\u001b[0m\n\u001b[0;32m-> 1263\u001b[0;31m               _use_cached_eval_dataset=True)\n\u001b[0m\u001b[1;32m   1264\u001b[0m           \u001b[0mval_logs\u001b[0m \u001b[0;34m=\u001b[0m \u001b[0;34m{\u001b[0m\u001b[0;34m'val_'\u001b[0m \u001b[0;34m+\u001b[0m \u001b[0mname\u001b[0m\u001b[0;34m:\u001b[0m \u001b[0mval\u001b[0m \u001b[0;32mfor\u001b[0m \u001b[0mname\u001b[0m\u001b[0;34m,\u001b[0m \u001b[0mval\u001b[0m \u001b[0;32min\u001b[0m \u001b[0mval_logs\u001b[0m\u001b[0;34m.\u001b[0m\u001b[0mitems\u001b[0m\u001b[0;34m(\u001b[0m\u001b[0;34m)\u001b[0m\u001b[0;34m}\u001b[0m\u001b[0;34m\u001b[0m\u001b[0;34m\u001b[0m\u001b[0m\n\u001b[1;32m   1265\u001b[0m           \u001b[0mepoch_logs\u001b[0m\u001b[0;34m.\u001b[0m\u001b[0mupdate\u001b[0m\u001b[0;34m(\u001b[0m\u001b[0mval_logs\u001b[0m\u001b[0;34m)\u001b[0m\u001b[0;34m\u001b[0m\u001b[0;34m\u001b[0m\u001b[0m\n",
            "\u001b[0;32m/usr/local/lib/python3.7/dist-packages/keras/utils/traceback_utils.py\u001b[0m in \u001b[0;36merror_handler\u001b[0;34m(*args, **kwargs)\u001b[0m\n\u001b[1;32m     62\u001b[0m     \u001b[0mfiltered_tb\u001b[0m \u001b[0;34m=\u001b[0m \u001b[0;32mNone\u001b[0m\u001b[0;34m\u001b[0m\u001b[0;34m\u001b[0m\u001b[0m\n\u001b[1;32m     63\u001b[0m     \u001b[0;32mtry\u001b[0m\u001b[0;34m:\u001b[0m\u001b[0;34m\u001b[0m\u001b[0;34m\u001b[0m\u001b[0m\n\u001b[0;32m---> 64\u001b[0;31m       \u001b[0;32mreturn\u001b[0m \u001b[0mfn\u001b[0m\u001b[0;34m(\u001b[0m\u001b[0;34m*\u001b[0m\u001b[0margs\u001b[0m\u001b[0;34m,\u001b[0m \u001b[0;34m**\u001b[0m\u001b[0mkwargs\u001b[0m\u001b[0;34m)\u001b[0m\u001b[0;34m\u001b[0m\u001b[0;34m\u001b[0m\u001b[0m\n\u001b[0m\u001b[1;32m     65\u001b[0m     \u001b[0;32mexcept\u001b[0m \u001b[0mException\u001b[0m \u001b[0;32mas\u001b[0m \u001b[0me\u001b[0m\u001b[0;34m:\u001b[0m  \u001b[0;31m# pylint: disable=broad-except\u001b[0m\u001b[0;34m\u001b[0m\u001b[0;34m\u001b[0m\u001b[0m\n\u001b[1;32m     66\u001b[0m       \u001b[0mfiltered_tb\u001b[0m \u001b[0;34m=\u001b[0m \u001b[0m_process_traceback_frames\u001b[0m\u001b[0;34m(\u001b[0m\u001b[0me\u001b[0m\u001b[0;34m.\u001b[0m\u001b[0m__traceback__\u001b[0m\u001b[0;34m)\u001b[0m\u001b[0;34m\u001b[0m\u001b[0;34m\u001b[0m\u001b[0m\n",
            "\u001b[0;32m/usr/local/lib/python3.7/dist-packages/keras/engine/training.py\u001b[0m in \u001b[0;36mevaluate\u001b[0;34m(self, x, y, batch_size, verbose, sample_weight, steps, callbacks, max_queue_size, workers, use_multiprocessing, return_dict, **kwargs)\u001b[0m\n\u001b[1;32m   1535\u001b[0m             \u001b[0;32mwith\u001b[0m \u001b[0mtf\u001b[0m\u001b[0;34m.\u001b[0m\u001b[0mprofiler\u001b[0m\u001b[0;34m.\u001b[0m\u001b[0mexperimental\u001b[0m\u001b[0;34m.\u001b[0m\u001b[0mTrace\u001b[0m\u001b[0;34m(\u001b[0m\u001b[0;34m'test'\u001b[0m\u001b[0;34m,\u001b[0m \u001b[0mstep_num\u001b[0m\u001b[0;34m=\u001b[0m\u001b[0mstep\u001b[0m\u001b[0;34m,\u001b[0m \u001b[0m_r\u001b[0m\u001b[0;34m=\u001b[0m\u001b[0;36m1\u001b[0m\u001b[0;34m)\u001b[0m\u001b[0;34m:\u001b[0m\u001b[0;34m\u001b[0m\u001b[0;34m\u001b[0m\u001b[0m\n\u001b[1;32m   1536\u001b[0m               \u001b[0mcallbacks\u001b[0m\u001b[0;34m.\u001b[0m\u001b[0mon_test_batch_begin\u001b[0m\u001b[0;34m(\u001b[0m\u001b[0mstep\u001b[0m\u001b[0;34m)\u001b[0m\u001b[0;34m\u001b[0m\u001b[0;34m\u001b[0m\u001b[0m\n\u001b[0;32m-> 1537\u001b[0;31m               \u001b[0mtmp_logs\u001b[0m \u001b[0;34m=\u001b[0m \u001b[0mself\u001b[0m\u001b[0;34m.\u001b[0m\u001b[0mtest_function\u001b[0m\u001b[0;34m(\u001b[0m\u001b[0miterator\u001b[0m\u001b[0;34m)\u001b[0m\u001b[0;34m\u001b[0m\u001b[0;34m\u001b[0m\u001b[0m\n\u001b[0m\u001b[1;32m   1538\u001b[0m               \u001b[0;32mif\u001b[0m \u001b[0mdata_handler\u001b[0m\u001b[0;34m.\u001b[0m\u001b[0mshould_sync\u001b[0m\u001b[0;34m:\u001b[0m\u001b[0;34m\u001b[0m\u001b[0;34m\u001b[0m\u001b[0m\n\u001b[1;32m   1539\u001b[0m                 \u001b[0mcontext\u001b[0m\u001b[0;34m.\u001b[0m\u001b[0masync_wait\u001b[0m\u001b[0;34m(\u001b[0m\u001b[0;34m)\u001b[0m\u001b[0;34m\u001b[0m\u001b[0;34m\u001b[0m\u001b[0m\n",
            "\u001b[0;32m/usr/local/lib/python3.7/dist-packages/tensorflow/python/util/traceback_utils.py\u001b[0m in \u001b[0;36merror_handler\u001b[0;34m(*args, **kwargs)\u001b[0m\n\u001b[1;32m    148\u001b[0m     \u001b[0mfiltered_tb\u001b[0m \u001b[0;34m=\u001b[0m \u001b[0;32mNone\u001b[0m\u001b[0;34m\u001b[0m\u001b[0;34m\u001b[0m\u001b[0m\n\u001b[1;32m    149\u001b[0m     \u001b[0;32mtry\u001b[0m\u001b[0;34m:\u001b[0m\u001b[0;34m\u001b[0m\u001b[0;34m\u001b[0m\u001b[0m\n\u001b[0;32m--> 150\u001b[0;31m       \u001b[0;32mreturn\u001b[0m \u001b[0mfn\u001b[0m\u001b[0;34m(\u001b[0m\u001b[0;34m*\u001b[0m\u001b[0margs\u001b[0m\u001b[0;34m,\u001b[0m \u001b[0;34m**\u001b[0m\u001b[0mkwargs\u001b[0m\u001b[0;34m)\u001b[0m\u001b[0;34m\u001b[0m\u001b[0;34m\u001b[0m\u001b[0m\n\u001b[0m\u001b[1;32m    151\u001b[0m     \u001b[0;32mexcept\u001b[0m \u001b[0mException\u001b[0m \u001b[0;32mas\u001b[0m \u001b[0me\u001b[0m\u001b[0;34m:\u001b[0m\u001b[0;34m\u001b[0m\u001b[0;34m\u001b[0m\u001b[0m\n\u001b[1;32m    152\u001b[0m       \u001b[0mfiltered_tb\u001b[0m \u001b[0;34m=\u001b[0m \u001b[0m_process_traceback_frames\u001b[0m\u001b[0;34m(\u001b[0m\u001b[0me\u001b[0m\u001b[0;34m.\u001b[0m\u001b[0m__traceback__\u001b[0m\u001b[0;34m)\u001b[0m\u001b[0;34m\u001b[0m\u001b[0;34m\u001b[0m\u001b[0m\n",
            "\u001b[0;32m/usr/local/lib/python3.7/dist-packages/tensorflow/python/eager/def_function.py\u001b[0m in \u001b[0;36m__call__\u001b[0;34m(self, *args, **kwds)\u001b[0m\n\u001b[1;32m    908\u001b[0m \u001b[0;34m\u001b[0m\u001b[0m\n\u001b[1;32m    909\u001b[0m       \u001b[0;32mwith\u001b[0m \u001b[0mOptionalXlaContext\u001b[0m\u001b[0;34m(\u001b[0m\u001b[0mself\u001b[0m\u001b[0;34m.\u001b[0m\u001b[0m_jit_compile\u001b[0m\u001b[0;34m)\u001b[0m\u001b[0;34m:\u001b[0m\u001b[0;34m\u001b[0m\u001b[0;34m\u001b[0m\u001b[0m\n\u001b[0;32m--> 910\u001b[0;31m         \u001b[0mresult\u001b[0m \u001b[0;34m=\u001b[0m \u001b[0mself\u001b[0m\u001b[0;34m.\u001b[0m\u001b[0m_call\u001b[0m\u001b[0;34m(\u001b[0m\u001b[0;34m*\u001b[0m\u001b[0margs\u001b[0m\u001b[0;34m,\u001b[0m \u001b[0;34m**\u001b[0m\u001b[0mkwds\u001b[0m\u001b[0;34m)\u001b[0m\u001b[0;34m\u001b[0m\u001b[0;34m\u001b[0m\u001b[0m\n\u001b[0m\u001b[1;32m    911\u001b[0m \u001b[0;34m\u001b[0m\u001b[0m\n\u001b[1;32m    912\u001b[0m       \u001b[0mnew_tracing_count\u001b[0m \u001b[0;34m=\u001b[0m \u001b[0mself\u001b[0m\u001b[0;34m.\u001b[0m\u001b[0mexperimental_get_tracing_count\u001b[0m\u001b[0;34m(\u001b[0m\u001b[0;34m)\u001b[0m\u001b[0;34m\u001b[0m\u001b[0;34m\u001b[0m\u001b[0m\n",
            "\u001b[0;32m/usr/local/lib/python3.7/dist-packages/tensorflow/python/eager/def_function.py\u001b[0m in \u001b[0;36m_call\u001b[0;34m(self, *args, **kwds)\u001b[0m\n\u001b[1;32m    947\u001b[0m       \u001b[0;31m# In this case we have not created variables on the first call. So we can\u001b[0m\u001b[0;34m\u001b[0m\u001b[0;34m\u001b[0m\u001b[0;34m\u001b[0m\u001b[0m\n\u001b[1;32m    948\u001b[0m       \u001b[0;31m# run the first trace but we should fail if variables are created.\u001b[0m\u001b[0;34m\u001b[0m\u001b[0;34m\u001b[0m\u001b[0;34m\u001b[0m\u001b[0m\n\u001b[0;32m--> 949\u001b[0;31m       \u001b[0mresults\u001b[0m \u001b[0;34m=\u001b[0m \u001b[0mself\u001b[0m\u001b[0;34m.\u001b[0m\u001b[0m_stateful_fn\u001b[0m\u001b[0;34m(\u001b[0m\u001b[0;34m*\u001b[0m\u001b[0margs\u001b[0m\u001b[0;34m,\u001b[0m \u001b[0;34m**\u001b[0m\u001b[0mkwds\u001b[0m\u001b[0;34m)\u001b[0m\u001b[0;34m\u001b[0m\u001b[0;34m\u001b[0m\u001b[0m\n\u001b[0m\u001b[1;32m    950\u001b[0m       \u001b[0;32mif\u001b[0m \u001b[0mself\u001b[0m\u001b[0;34m.\u001b[0m\u001b[0m_created_variables\u001b[0m \u001b[0;32mand\u001b[0m \u001b[0;32mnot\u001b[0m \u001b[0mALLOW_DYNAMIC_VARIABLE_CREATION\u001b[0m\u001b[0;34m:\u001b[0m\u001b[0;34m\u001b[0m\u001b[0;34m\u001b[0m\u001b[0m\n\u001b[1;32m    951\u001b[0m         raise ValueError(\"Creating variables on a non-first call to a function\"\n",
            "\u001b[0;32m/usr/local/lib/python3.7/dist-packages/tensorflow/python/eager/function.py\u001b[0m in \u001b[0;36m__call__\u001b[0;34m(self, *args, **kwargs)\u001b[0m\n\u001b[1;32m   3129\u001b[0m        filtered_flat_args) = self._maybe_define_function(args, kwargs)\n\u001b[1;32m   3130\u001b[0m     return graph_function._call_flat(\n\u001b[0;32m-> 3131\u001b[0;31m         filtered_flat_args, captured_inputs=graph_function.captured_inputs)  # pylint: disable=protected-access\n\u001b[0m\u001b[1;32m   3132\u001b[0m \u001b[0;34m\u001b[0m\u001b[0m\n\u001b[1;32m   3133\u001b[0m   \u001b[0;34m@\u001b[0m\u001b[0mproperty\u001b[0m\u001b[0;34m\u001b[0m\u001b[0;34m\u001b[0m\u001b[0m\n",
            "\u001b[0;32m/usr/local/lib/python3.7/dist-packages/tensorflow/python/eager/function.py\u001b[0m in \u001b[0;36m_call_flat\u001b[0;34m(self, args, captured_inputs, cancellation_manager)\u001b[0m\n\u001b[1;32m   1958\u001b[0m       \u001b[0;31m# No tape is watching; skip to running the function.\u001b[0m\u001b[0;34m\u001b[0m\u001b[0;34m\u001b[0m\u001b[0;34m\u001b[0m\u001b[0m\n\u001b[1;32m   1959\u001b[0m       return self._build_call_outputs(self._inference_function.call(\n\u001b[0;32m-> 1960\u001b[0;31m           ctx, args, cancellation_manager=cancellation_manager))\n\u001b[0m\u001b[1;32m   1961\u001b[0m     forward_backward = self._select_forward_and_backward_functions(\n\u001b[1;32m   1962\u001b[0m         \u001b[0margs\u001b[0m\u001b[0;34m,\u001b[0m\u001b[0;34m\u001b[0m\u001b[0;34m\u001b[0m\u001b[0m\n",
            "\u001b[0;32m/usr/local/lib/python3.7/dist-packages/tensorflow/python/eager/function.py\u001b[0m in \u001b[0;36mcall\u001b[0;34m(self, ctx, args, cancellation_manager)\u001b[0m\n\u001b[1;32m    601\u001b[0m               \u001b[0minputs\u001b[0m\u001b[0;34m=\u001b[0m\u001b[0margs\u001b[0m\u001b[0;34m,\u001b[0m\u001b[0;34m\u001b[0m\u001b[0;34m\u001b[0m\u001b[0m\n\u001b[1;32m    602\u001b[0m               \u001b[0mattrs\u001b[0m\u001b[0;34m=\u001b[0m\u001b[0mattrs\u001b[0m\u001b[0;34m,\u001b[0m\u001b[0;34m\u001b[0m\u001b[0;34m\u001b[0m\u001b[0m\n\u001b[0;32m--> 603\u001b[0;31m               ctx=ctx)\n\u001b[0m\u001b[1;32m    604\u001b[0m         \u001b[0;32melse\u001b[0m\u001b[0;34m:\u001b[0m\u001b[0;34m\u001b[0m\u001b[0;34m\u001b[0m\u001b[0m\n\u001b[1;32m    605\u001b[0m           outputs = execute.execute_with_cancellation(\n",
            "\u001b[0;32m/usr/local/lib/python3.7/dist-packages/tensorflow/python/eager/execute.py\u001b[0m in \u001b[0;36mquick_execute\u001b[0;34m(op_name, num_outputs, inputs, attrs, ctx, name)\u001b[0m\n\u001b[1;32m     57\u001b[0m     \u001b[0mctx\u001b[0m\u001b[0;34m.\u001b[0m\u001b[0mensure_initialized\u001b[0m\u001b[0;34m(\u001b[0m\u001b[0;34m)\u001b[0m\u001b[0;34m\u001b[0m\u001b[0;34m\u001b[0m\u001b[0m\n\u001b[1;32m     58\u001b[0m     tensors = pywrap_tfe.TFE_Py_Execute(ctx._handle, device_name, op_name,\n\u001b[0;32m---> 59\u001b[0;31m                                         inputs, attrs, num_outputs)\n\u001b[0m\u001b[1;32m     60\u001b[0m   \u001b[0;32mexcept\u001b[0m \u001b[0mcore\u001b[0m\u001b[0;34m.\u001b[0m\u001b[0m_NotOkStatusException\u001b[0m \u001b[0;32mas\u001b[0m \u001b[0me\u001b[0m\u001b[0;34m:\u001b[0m\u001b[0;34m\u001b[0m\u001b[0;34m\u001b[0m\u001b[0m\n\u001b[1;32m     61\u001b[0m     \u001b[0;32mif\u001b[0m \u001b[0mname\u001b[0m \u001b[0;32mis\u001b[0m \u001b[0;32mnot\u001b[0m \u001b[0;32mNone\u001b[0m\u001b[0;34m:\u001b[0m\u001b[0;34m\u001b[0m\u001b[0;34m\u001b[0m\u001b[0m\n",
            "\u001b[0;31mKeyboardInterrupt\u001b[0m: "
          ]
        }
      ]
    },
    {
      "cell_type": "markdown",
      "metadata": {
        "id": "RU__70fnuGf1"
      },
      "source": [
        "For the optimized model, the number of trainable parameters were 1,223,258, which represented 4 added layers of 64, 128, 256 and 512.\n",
        "\n",
        "Looking at the history in a dataframe, we get:"
      ]
    },
    {
      "cell_type": "markdown",
      "metadata": {
        "id": "avAf0rO6QC-7"
      },
      "source": [
        "### 3.2.2. Save History"
      ]
    },
    {
      "cell_type": "code",
      "metadata": {
        "id": "WF4nKtbkQFER"
      },
      "source": [
        "history_dataframe(history, 'ResNet50')"
      ],
      "execution_count": null,
      "outputs": []
    },
    {
      "cell_type": "markdown",
      "metadata": {
        "id": "UVkDf9-dC9-7"
      },
      "source": [
        "### 3.2.3 Plot Metrics"
      ]
    },
    {
      "cell_type": "code",
      "metadata": {
        "colab": {
          "base_uri": "https://localhost:8080/",
          "height": 279
        },
        "id": "Jk36Uirr7xEm",
        "outputId": "cc45f7ef-f28d-4e2a-8d9e-6a95b548eee9"
      },
      "source": [
        "plot_metric(history, 'accuracy')\n"
      ],
      "execution_count": null,
      "outputs": [
        {
          "output_type": "display_data",
          "data": {
            "image/png": "[encoded data removed]",
            "text/plain": [
              "<Figure size 432x288 with 1 Axes>"
            ]
          },
          "metadata": {
            "needs_background": "light"
          }
        }
      ]
    },
    {
      "cell_type": "code",
      "metadata": {
        "colab": {
          "base_uri": "https://localhost:8080/",
          "height": 279
        },
        "id": "GQktUXYo8Xep",
        "outputId": "e62027f4-7a3f-4665-a1eb-d1f9d49605b4"
      },
      "source": [
        "plot_metric(history, 'loss')"
      ],
      "execution_count": null,
      "outputs": [
        {
          "output_type": "display_data",
          "data": {
            "image/png": "[encoded data removed]",
            "text/plain": [
              "<Figure size 432x288 with 1 Axes>"
            ]
          },
          "metadata": {
            "needs_background": "light"
          }
        }
      ]
    },
    {
      "cell_type": "markdown",
      "metadata": {
        "id": "bqZgeWjmB6mt"
      },
      "source": [
        "# Part 4: Test Model\n",
        "\n",
        "In testing the model, I will be using the ```model.evaluate``` function to see how well the model I had built performs with the test dataset.\n",
        "\n",
        "# 4.1. Pre-processing Test Set\n",
        "\n",
        "Similar to the train set, I pre-processed the test set using ```ImageDataGenerator```."
      ]
    },
    {
      "cell_type": "code",
      "metadata": {
        "id": "qSOMwRLUB4cQ",
        "colab": {
          "base_uri": "https://localhost:8080/"
        },
        "outputId": "1c6912d8-b66b-4e77-c5a6-112aa813c94f"
      },
      "source": [
        "test_datagen = ImageDataGenerator(rescale = 1./255)\n",
        "\n",
        "test_gen = test_datagen.flow_from_directory(\n",
        "    directory=test_path,                          # Training directory\n",
        "    target_size=(image_x, image_y),                  # Resize to (224, 224) for vgg16 model\n",
        "    seed=42,\n",
        "    class_mode='categorical',                        # 26 categories: A-Z\n",
        "    color_mode='rgb',                                # Convert back from grayscale to RGB\n",
        "    shuffle=True)\n"
      ],
      "execution_count": null,
      "outputs": [
        {
          "output_type": "stream",
          "name": "stdout",
          "text": [
            "Found 10400 images belonging to 26 classes.\n"
          ]
        }
      ]
    },
    {
      "cell_type": "markdown",
      "metadata": {
        "id": "rXWowXkFSjJs"
      },
      "source": [
        "## 4.1. Evaluate Models\n",
        "\n",
        "Evaluating the models using the ```model.evaluate``` function gives us these results."
      ]
    },
    {
      "cell_type": "code",
      "metadata": {
        "colab": {
          "base_uri": "https://localhost:8080/"
        },
        "id": "qw6sza-CTEdZ",
        "outputId": "1ea95354-a0a2-4bdf-b8f2-1cdd5ffaf7ea"
      },
      "source": [
        "model_vgg = load_model('/content/drive/MyDrive/Colab/ASL/models/vgg16.h5')\n",
        "loss_vgg, acc_vgg = model_vgg.evaluate(test_gen, verbose=1)"
      ],
      "execution_count": null,
      "outputs": [
        {
          "output_type": "stream",
          "name": "stdout",
          "text": [
            "325/325 [==============================] - 28s 86ms/step - loss: 0.0343 - accuracy: 0.9881\n"
          ]
        }
      ]
    },
    {
      "cell_type": "code",
      "metadata": {
        "colab": {
          "base_uri": "https://localhost:8080/"
        },
        "id": "zOduBPu5vVcd",
        "outputId": "f3f6665e-a486-4ef2-fdfe-ad49539ccd0a"
      },
      "source": [
        "model_resnet = load_model('/content/drive/MyDrive/Colab/ASL/models/resnet50.h5')\n",
        "loss_resnet, acc_resnet = model_resnet.evaluate(test_gen, verbose=1)"
      ],
      "execution_count": null,
      "outputs": [
        {
          "output_type": "stream",
          "name": "stdout",
          "text": [
            "325/325 [==============================] - 30s 88ms/step - loss: 0.3324 - acc: 0.9322\n"
          ]
        }
      ]
    },
    {
      "cell_type": "markdown",
      "metadata": {
        "id": "7rkGUeQsvDiG"
      },
      "source": [
        "Comparing the optimized models, it seems that the VGG model is better than the ResNet model, even though the ResNet model uses more layers than the vgg model.\n",
        "\n",
        "\n",
        "However, the bigger issue is that the results from evaluating using ```model.evaluate``` seemed too good to be true. It seemed nigh impossible for the model to have been trained to near-perfection and the ```model.evaluate``` function seemed off. To confirm my suspicion, I created a function to create a dataframe to compare the actual vs predicted gesture."
      ]
    },
    {
      "cell_type": "markdown",
      "metadata": {
        "id": "uyoRU0ypffWb"
      },
      "source": [
        "## 4.2. DataFrame of Results\n",
        "\n"
      ]
    },
    {
      "cell_type": "markdown",
      "metadata": {
        "id": "YAktTn3mkCLw"
      },
      "source": [
        "### 4.2.1. Dictionary for Index Interpretations"
      ]
    },
    {
      "cell_type": "markdown",
      "metadata": {
        "id": "ivSrzEVwgas3"
      },
      "source": [
        "I created two dictionaries to identify the gestures in the actual vs predicted separately.\n",
        "\n",
        "This is because there is a difference between reading the 'actual' gesture from the file and its corresponding index processed using ```ImageDataGenerator```. To put it more simply, my files were not read in ascending order (1, 2, 3 ... 24, 25, 26), but read in the order of the first number (1, 10, 11 ... 18, 19, 2, 20, 21).\n",
        "\n",
        "In table format, this is how I set my folders:\n",
        "\n",
        "|Alphabet|Folder Number|\n",
        "|-------------|--------|\n",
        "|A|1|\n",
        "|B|2|\n",
        "|C|3|\n",
        "|...|...|\n",
        "|X|24|\n",
        "|Y|25|\n",
        "|Z|26|\n",
        "\n",
        "```ImageDataGenerator``` indexed the results as such:\n",
        "\n",
        "| Index No + 1 |Folder Number|Alphabet|\n",
        "|------------------|--------|-|\n",
        "|1|1|A|\n",
        "|2|10|J|\n",
        "|3|11|K|\n",
        "|...|...|...|\n",
        "|11|19|S|\n",
        "|12|2|B|\n",
        "|13|20|T|\n",
        "|14|21|U|\n",
        "|...|...|...|\n",
        "|19|26|Z|\n",
        "|20|3|C|\n",
        "|21|4|D|"
      ]
    },
    {
      "cell_type": "code",
      "metadata": {
        "id": "XLFXADXjgS-8"
      },
      "source": [
        "# Reading test folder based on how I made it\n",
        "number_to_alphabet = {\n",
        "    1: 'A', 2: 'B', 3: 'C', 4: 'D', 5: 'E', 6: 'F', \n",
        "    7: 'G', 8: 'H', 9: 'I', 10: 'J', 11: 'K', 12: 'L', \n",
        "    13: 'M', 14: 'N', 15: 'O', 16: 'P', 17: 'Q', \n",
        "    18: 'R', 19: 'S', 20: 'T', 21: 'U', 22: 'V', \n",
        "    23: 'W', 24: 'X', 25: 'Y', 26: 'Z'}\n",
        "\n",
        "# Reading model indexes made by ImageDataGenerator\n",
        "number_to_alphabet_2 = {\n",
        "    1: 'A', 2: 'J', 3: 'K', 4: 'L', 5: 'M', 6: 'N', 7: 'O',\n",
        "    8: 'P', 9: 'Q', 10: 'R', 11: 'S', 12: 'B', 13: 'T', 14: 'U',\n",
        "    15: 'V', 16: 'W', 17: 'X',  18: 'Y', 19: 'Z', 20: 'C',\n",
        "    21: 'D', 22: 'E', 23: 'F', 24: 'G', 25: 'H', 26: 'I',\n",
        "}"
      ],
      "execution_count": 42,
      "outputs": []
    },
    {
      "cell_type": "markdown",
      "metadata": {
        "id": "PssugwGUj35-"
      },
      "source": [
        "### 4.2.2. Function for Model Prediction"
      ]
    },
    {
      "cell_type": "code",
      "metadata": {
        "id": "82Yn2pd7jyZp"
      },
      "source": [
        "def predict_alphabet(select_model, path):\n",
        "\n",
        "    model = select_model\n",
        "    # Read and reshape image to be predicted\n",
        "    read_image = cv2.imread(path, 1)\n",
        "    reshaped_image = read_image.reshape(1, 224, 224, 3)\n",
        "\n",
        "    # Predict alphabet based on model\n",
        "    alphabet_number = np.argmax(model.predict(reshaped_image)[0], axis=0) + 1\n",
        "    predicted_alphabet = number_to_alphabet_2[alphabet_number]\n",
        "\n",
        "    # Prediction probability\n",
        "    predicted_probability = max(model.predict(reshaped_image)[0])\n",
        "\n",
        "    return predicted_alphabet, predicted_probability"
      ],
      "execution_count": 43,
      "outputs": []
    },
    {
      "cell_type": "markdown",
      "metadata": {
        "id": "_BpO_41akY2m"
      },
      "source": [
        "### 4.2.3. Create Actual vs Predicted DataFrame"
      ]
    },
    {
      "cell_type": "code",
      "metadata": {
        "id": "hc9aNA-wj2XT"
      },
      "source": [
        "def predict_dataframe(select_model):\n",
        "    model = select_model\n",
        "    general_path = '/content/drive/MyDrive/Colab/ASL/gestures/test/'\n",
        "    column_names = ['actual', 'predicted', 'predict_proba']\n",
        "    result = pd.DataFrame(columns=column_names)\n",
        "    for directory, subdirectories, files in os.walk(general_path):\n",
        "        for subdirectory in subdirectories:\n",
        "            for jpg_number in jpg_list:\n",
        "                image_path = general_path + str(subdirectory) + '/' + str(jpg_number) + '.jpg'\n",
        "                # Predict alphabet from model\n",
        "                predicted_alphabet, predict_proba = predict_alphabet(model, image_path)\n",
        "\n",
        "                # Actual alphabet obtained from file name\n",
        "                actual_alphabet = number_to_alphabet[int(re.findall('/(\\d*)/', image_path)[0])]\n",
        "\n",
        "                to_add = pd.DataFrame(\n",
        "                    [actual_alphabet, predicted_alphabet, predict_proba],\n",
        "                    index=column_names).T\n",
        "\n",
        "                result = pd.concat(objs=(result, to_add), axis=0)\n",
        "    return result\n"
      ],
      "execution_count": 44,
      "outputs": []
    },
    {
      "cell_type": "markdown",
      "metadata": {
        "id": "jRFxmpeVKw30"
      },
      "source": [
        "## 4.3. Re-evaluate Models\n",
        "\n",
        "The results obtained from using the function from this section is different from the results evaluated from 4.1. However, it seems like the results obtained from 4.2. is more realistic than the nigh-perfect results from using ```model.evaluate```. Below, we conduct some analysis based on the things we get correctly and incorrectly."
      ]
    },
    {
      "cell_type": "markdown",
      "metadata": {
        "id": "sL6_hyYZHItB"
      },
      "source": [
        "### 4.3.1. VGG16 Model\n",
        "\n",
        "Here, we compare the results between the model accuracy obtained from 4.1. and 4.2."
      ]
    },
    {
      "cell_type": "code",
      "metadata": {
        "id": "wmvTHNKtjxeq"
      },
      "source": [
        "result_vgg = predict_dataframe(model_vgg)\n",
        "result_vgg.to_csv('/content/drive/MyDrive/Colab/ASL/results/vgg.csv', index=False)"
      ],
      "execution_count": null,
      "outputs": []
    },
    {
      "cell_type": "markdown",
      "metadata": {
        "id": "lQobQcK-HYIu"
      },
      "source": [
        "Recalling our accuracy rate from 4.1., accuracy is at 98.8%."
      ]
    },
    {
      "cell_type": "code",
      "metadata": {
        "colab": {
          "base_uri": "https://localhost:8080/"
        },
        "id": "WsyL5MsXH1_P",
        "outputId": "a0ee5238-7f87-4c65-9531-c2835c0d85f1"
      },
      "source": [
        "acc_vgg_percent = round(acc_vgg * 100, 1)\n",
        "acc_vgg_percent"
      ],
      "execution_count": null,
      "outputs": [
        {
          "output_type": "execute_result",
          "data": {
            "text/plain": [
              "98.8"
            ]
          },
          "metadata": {},
          "execution_count": 91
        }
      ]
    },
    {
      "cell_type": "markdown",
      "metadata": {
        "id": "EyfZTXPDH8WW"
      },
      "source": [
        "Now, we predict the results based on 4.2."
      ]
    },
    {
      "cell_type": "code",
      "metadata": {
        "colab": {
          "base_uri": "https://localhost:8080/"
        },
        "id": "KZ_PAv_5GMYq",
        "outputId": "4b8cef03-a959-49cd-e623-96bdbe4a3a2f"
      },
      "source": [
        "accurate_preds_vgg = result_vgg.loc[result_vgg['actual'] == result_vgg['predicted']]['actual'].count()\n",
        "accuracy_rate_vgg = round(accurate_preds/result_vgg.shape[0]*100, 1)\n",
        "accurate_proba_vgg = round(result_vgg.loc[result['actual'] == result_vgg['predicted']]['predict_proba'].mean()*100, 2)\n",
        "\n",
        "print(f'Accurate Predictions: {accurate_preds_vgg}')\n",
        "print(f'Accuracy Rate: {accuracy_rate_vgg}%')\n",
        "print(f'Mean Probability for Accurate Results: {accurate_proba}%')"
      ],
      "execution_count": null,
      "outputs": [
        {
          "output_type": "stream",
          "name": "stdout",
          "text": [
            "Accurate Predictions: 8215\n",
            "Accuracy Rate: 79.0%\n",
            "Average Prediction Probability for Accurate Results: 99.9%\n"
          ]
        }
      ]
    },
    {
      "cell_type": "markdown",
      "metadata": {
        "id": "KVXDgKqGGYmq"
      },
      "source": [
        "Using the functions in 4.2., I find that there were 8,215 images that were correctly classified. This translates to an accuracy rate of 79%. This seems more correct than the 98.8% accuracy rate from 4.1.\n",
        "\n",
        "For the images where the model obtained the correct predictions, there was a very high prediction probability at 99.9%"
      ]
    },
    {
      "cell_type": "code",
      "metadata": {
        "colab": {
          "base_uri": "https://localhost:8080/"
        },
        "id": "IaKkygzVJsg2",
        "outputId": "1346c11a-dcd7-48f3-beae-4aa4c1523d49"
      },
      "source": [
        "inaccurate_proba_vgg = round(result_vgg.loc[result_vgg['actual'] != result_vgg['predicted']]['predict_proba'].mean()*100, 2)\n",
        "\n",
        "print(f'Mean Probability for Inaccurate Results: {inaccurate_proba_vgg}%')"
      ],
      "execution_count": null,
      "outputs": [
        {
          "output_type": "stream",
          "name": "stdout",
          "text": [
            "Mean Probability for Inaccurate Results: 99.25%\n"
          ]
        }
      ]
    },
    {
      "cell_type": "markdown",
      "metadata": {
        "id": "PDD_axkKJtBl"
      },
      "source": [
        "On the other hand, where the predictions were inaccurate, there was a lower prediction probability. However, the prediction probability was still very high, which is very concerning. From this, I believe that the model will require even more training, perhaps with more dataset and added layers. But for this project, I am satisfied with the outcome (due to the lack of time and computing power)."
      ]
    },
    {
      "cell_type": "markdown",
      "metadata": {
        "id": "EEukpo5rS3mc"
      },
      "source": [
        "### 4.3.2. ResNet Model\n",
        "\n",
        "Here, we compare the results between the model accuracy obtained from 4.1. and 4.2."
      ]
    },
    {
      "cell_type": "code",
      "metadata": {
        "id": "XzQpwatU-AKV"
      },
      "source": [
        "model_resnet = load_model('/content/drive/MyDrive/Colab/ASL/models/resnet50.h5')"
      ],
      "execution_count": 45,
      "outputs": []
    },
    {
      "cell_type": "code",
      "metadata": {
        "id": "S-ojx_zhTCSn"
      },
      "source": [
        "result_resnet = predict_dataframe(model_resnet)\n",
        "result_resnet.to_csv('/content/drive/MyDrive/Colab/ASL/results/resnet.csv', index=False)"
      ],
      "execution_count": 49,
      "outputs": []
    },
    {
      "cell_type": "markdown",
      "metadata": {
        "id": "2SaXsbjKTCKL"
      },
      "source": [
        "Recalling our accuracy rate from 4.1., accuracy is at 93.2%."
      ]
    },
    {
      "cell_type": "code",
      "metadata": {
        "id": "tw7UXzOK-HG0",
        "colab": {
          "base_uri": "https://localhost:8080/",
          "height": 419
        },
        "outputId": "96f97965-5bb0-4fc3-d97e-b22154e42bfb"
      },
      "source": [
        "result_resnet"
      ],
      "execution_count": 50,
      "outputs": [
        {
          "output_type": "execute_result",
          "data": {
            "text/html": [
              "<div>\n",
              "<style scoped>\n",
              "    .dataframe tbody tr th:only-of-type {\n",
              "        vertical-align: middle;\n",
              "    }\n",
              "\n",
              "    .dataframe tbody tr th {\n",
              "        vertical-align: top;\n",
              "    }\n",
              "\n",
              "    .dataframe thead th {\n",
              "        text-align: right;\n",
              "    }\n",
              "</style>\n",
              "<table border=\"1\" class=\"dataframe\">\n",
              "  <thead>\n",
              "    <tr style=\"text-align: right;\">\n",
              "      <th></th>\n",
              "      <th>actual</th>\n",
              "      <th>predicted</th>\n",
              "      <th>predict_proba</th>\n",
              "    </tr>\n",
              "  </thead>\n",
              "  <tbody>\n",
              "    <tr>\n",
              "      <th>0</th>\n",
              "      <td>A</td>\n",
              "      <td>S</td>\n",
              "      <td>0.876713</td>\n",
              "    </tr>\n",
              "    <tr>\n",
              "      <th>0</th>\n",
              "      <td>A</td>\n",
              "      <td>S</td>\n",
              "      <td>0.659585</td>\n",
              "    </tr>\n",
              "    <tr>\n",
              "      <th>0</th>\n",
              "      <td>A</td>\n",
              "      <td>S</td>\n",
              "      <td>0.943189</td>\n",
              "    </tr>\n",
              "    <tr>\n",
              "      <th>0</th>\n",
              "      <td>A</td>\n",
              "      <td>S</td>\n",
              "      <td>0.938809</td>\n",
              "    </tr>\n",
              "    <tr>\n",
              "      <th>0</th>\n",
              "      <td>A</td>\n",
              "      <td>S</td>\n",
              "      <td>0.851843</td>\n",
              "    </tr>\n",
              "    <tr>\n",
              "      <th>...</th>\n",
              "      <td>...</td>\n",
              "      <td>...</td>\n",
              "      <td>...</td>\n",
              "    </tr>\n",
              "    <tr>\n",
              "      <th>0</th>\n",
              "      <td>Z</td>\n",
              "      <td>S</td>\n",
              "      <td>0.588154</td>\n",
              "    </tr>\n",
              "    <tr>\n",
              "      <th>0</th>\n",
              "      <td>Z</td>\n",
              "      <td>A</td>\n",
              "      <td>0.622494</td>\n",
              "    </tr>\n",
              "    <tr>\n",
              "      <th>0</th>\n",
              "      <td>Z</td>\n",
              "      <td>S</td>\n",
              "      <td>0.312844</td>\n",
              "    </tr>\n",
              "    <tr>\n",
              "      <th>0</th>\n",
              "      <td>Z</td>\n",
              "      <td>S</td>\n",
              "      <td>0.782017</td>\n",
              "    </tr>\n",
              "    <tr>\n",
              "      <th>0</th>\n",
              "      <td>Z</td>\n",
              "      <td>A</td>\n",
              "      <td>0.628513</td>\n",
              "    </tr>\n",
              "  </tbody>\n",
              "</table>\n",
              "<p>10400 rows × 3 columns</p>\n",
              "</div>"
            ],
            "text/plain": [
              "   actual predicted predict_proba\n",
              "0       A         S      0.876713\n",
              "0       A         S      0.659585\n",
              "0       A         S      0.943189\n",
              "0       A         S      0.938809\n",
              "0       A         S      0.851843\n",
              "..    ...       ...           ...\n",
              "0       Z         S      0.588154\n",
              "0       Z         A      0.622494\n",
              "0       Z         S      0.312844\n",
              "0       Z         S      0.782017\n",
              "0       Z         A      0.628513\n",
              "\n",
              "[10400 rows x 3 columns]"
            ]
          },
          "metadata": {},
          "execution_count": 50
        }
      ]
    },
    {
      "cell_type": "code",
      "metadata": {
        "colab": {
          "base_uri": "https://localhost:8080/"
        },
        "id": "eENE0PmZTCDs",
        "outputId": "461c9b8c-5734-4c5b-a817-642521097fc6"
      },
      "source": [
        "acc_resnet_percent = round(acc_resnet * 100, 1)\n",
        "acc_resnet_percent"
      ],
      "execution_count": null,
      "outputs": [
        {
          "output_type": "execute_result",
          "data": {
            "text/plain": [
              "93.2"
            ]
          },
          "metadata": {},
          "execution_count": 136
        }
      ]
    },
    {
      "cell_type": "markdown",
      "metadata": {
        "id": "dYAcDRRdTB7r"
      },
      "source": [
        "Now, we predict the results based on 4.2."
      ]
    },
    {
      "cell_type": "code",
      "metadata": {
        "colab": {
          "base_uri": "https://localhost:8080/"
        },
        "id": "swCRoF0UTB0Q",
        "outputId": "e74b7a7c-4cb8-45d1-aff1-3ebf1cee859d"
      },
      "source": [
        "accurate_preds_resnet = result_resnet.loc[result_resnet['actual'] == result_resnet['predicted']]['actual'].count()\n",
        "accuracy_rate_resnet = round(accurate_preds_resnet/result_resnet.shape[0]*100, 1)\n",
        "accurate_proba_resnet = round(result_resnet.loc[result_resnet['actual'] == result_resnet['predicted']]['predict_proba'].mean()*100, 2)\n",
        "\n",
        "print(f'Accurate Predictions: {accurate_preds_resnet}')\n",
        "print(f'Accuracy Rate: {accuracy_rate_resnet}%')\n",
        "print(f'Mean Probability for Accurate Results: {accurate_proba_resnet}%')"
      ],
      "execution_count": 53,
      "outputs": [
        {
          "output_type": "stream",
          "name": "stdout",
          "text": [
            "Accurate Predictions: 738\n",
            "Accuracy Rate: 7.1%\n",
            "Mean Probability for Accurate Results: 86.72%\n"
          ]
        }
      ]
    },
    {
      "cell_type": "markdown",
      "metadata": {
        "id": "JYNWIkgoTBqb"
      },
      "source": [
        "Using the functions in 4.2., I find that there were 738 images that were correctly classified. This translates to an accuracy rate of 7.1%. This seems more correct than the 93.2% accuracy rate from 4.1. However, the low accuracy suggests that this model should not be used."
      ]
    },
    {
      "cell_type": "code",
      "metadata": {
        "colab": {
          "base_uri": "https://localhost:8080/"
        },
        "id": "PK9wG8oLTBWa",
        "outputId": "2b719b4d-189c-4a7b-c02b-2eda15d0eef3"
      },
      "source": [
        "inaccurate_proba_resnet = round(result_resnet.loc[result_resnet['actual'] != result_resnet['predicted']]['predict_proba'].mean()*100, 2)\n",
        "\n",
        "print(f'Mean Probability for Inaccurate Results: {inaccurate_proba_resnet}%')"
      ],
      "execution_count": 54,
      "outputs": [
        {
          "output_type": "stream",
          "name": "stdout",
          "text": [
            "Mean Probability for Inaccurate Results: 75.07%\n"
          ]
        }
      ]
    },
    {
      "cell_type": "markdown",
      "metadata": {
        "id": "Fd2FFz1XXlzm"
      },
      "source": [
        "However, what's interesting here is, the mean probability of the incorrect predictions were much lower. A lower probability in incorrect classification suggests that the model was trained properly.\n",
        "\n",
        "But overall, running and optimizing this model proved futile. If anything, it simply showed that this model, with it's full 50 layers and then some, is horrifyingly terrible at predicting this type of data."
      ]
    },
    {
      "cell_type": "markdown",
      "metadata": {
        "id": "WsAvfTd3Vz_j"
      },
      "source": [
        "## 4.4. Misclassification Analysis\n",
        "\n",
        "In this section, I use the optimized VGG16 model above to conduct some misclassification analysis.\n",
        "\n",
        "Looking at the top 5 misclassified letters, we get the following results:\n"
      ]
    },
    {
      "cell_type": "code",
      "metadata": {
        "colab": {
          "base_uri": "https://localhost:8080/",
          "height": 235
        },
        "id": "aN52e2UJFNIO",
        "outputId": "279f1aa8-64e9-4de9-938e-0575388a777e"
      },
      "source": [
        "result_vgg.loc[result_vgg['actual'] != result_vgg['predicted']].groupby(\n",
        "    ['actual']).count().sort_values(by=['predicted'], ascending=False).head()"
      ],
      "execution_count": null,
      "outputs": [
        {
          "output_type": "execute_result",
          "data": {
            "text/html": [
              "<div>\n",
              "<style scoped>\n",
              "    .dataframe tbody tr th:only-of-type {\n",
              "        vertical-align: middle;\n",
              "    }\n",
              "\n",
              "    .dataframe tbody tr th {\n",
              "        vertical-align: top;\n",
              "    }\n",
              "\n",
              "    .dataframe thead th {\n",
              "        text-align: right;\n",
              "    }\n",
              "</style>\n",
              "<table border=\"1\" class=\"dataframe\">\n",
              "  <thead>\n",
              "    <tr style=\"text-align: right;\">\n",
              "      <th></th>\n",
              "      <th>predicted</th>\n",
              "      <th>predict_proba</th>\n",
              "    </tr>\n",
              "    <tr>\n",
              "      <th>actual</th>\n",
              "      <th></th>\n",
              "      <th></th>\n",
              "    </tr>\n",
              "  </thead>\n",
              "  <tbody>\n",
              "    <tr>\n",
              "      <th>J</th>\n",
              "      <td>266</td>\n",
              "      <td>266</td>\n",
              "    </tr>\n",
              "    <tr>\n",
              "      <th>U</th>\n",
              "      <td>227</td>\n",
              "      <td>227</td>\n",
              "    </tr>\n",
              "    <tr>\n",
              "      <th>F</th>\n",
              "      <td>193</td>\n",
              "      <td>193</td>\n",
              "    </tr>\n",
              "    <tr>\n",
              "      <th>B</th>\n",
              "      <td>188</td>\n",
              "      <td>188</td>\n",
              "    </tr>\n",
              "    <tr>\n",
              "      <th>C</th>\n",
              "      <td>124</td>\n",
              "      <td>124</td>\n",
              "    </tr>\n",
              "  </tbody>\n",
              "</table>\n",
              "</div>"
            ],
            "text/plain": [
              "        predicted  predict_proba\n",
              "actual                          \n",
              "J             266            266\n",
              "U             227            227\n",
              "F             193            193\n",
              "B             188            188\n",
              "C             124            124"
            ]
          },
          "metadata": {},
          "execution_count": 75
        }
      ]
    },
    {
      "cell_type": "markdown",
      "metadata": {
        "id": "CRdWEj6oLULl"
      },
      "source": [
        "Next, I identify one of the most commonly misclassified letters and view the classes where it is misclassified onto. The 'actual' alphabet selected is 'C'."
      ]
    },
    {
      "cell_type": "code",
      "metadata": {
        "colab": {
          "base_uri": "https://localhost:8080/",
          "height": 266
        },
        "id": "PspiEPg_K_Iw",
        "outputId": "64ead6be-27fc-45d4-bb3f-272e13753791"
      },
      "source": [
        "result_vgg.loc[(result_vgg['actual'] != result_vgg['predicted']) &\n",
        "               (result_vgg['actual'] == 'C')].groupby(\n",
        "               ['actual', 'predicted']).count()"
      ],
      "execution_count": null,
      "outputs": [
        {
          "output_type": "execute_result",
          "data": {
            "text/html": [
              "<div>\n",
              "<style scoped>\n",
              "    .dataframe tbody tr th:only-of-type {\n",
              "        vertical-align: middle;\n",
              "    }\n",
              "\n",
              "    .dataframe tbody tr th {\n",
              "        vertical-align: top;\n",
              "    }\n",
              "\n",
              "    .dataframe thead th {\n",
              "        text-align: right;\n",
              "    }\n",
              "</style>\n",
              "<table border=\"1\" class=\"dataframe\">\n",
              "  <thead>\n",
              "    <tr style=\"text-align: right;\">\n",
              "      <th></th>\n",
              "      <th></th>\n",
              "      <th>predict_proba</th>\n",
              "    </tr>\n",
              "    <tr>\n",
              "      <th>actual</th>\n",
              "      <th>predicted</th>\n",
              "      <th></th>\n",
              "    </tr>\n",
              "  </thead>\n",
              "  <tbody>\n",
              "    <tr>\n",
              "      <th rowspan=\"6\" valign=\"top\">C</th>\n",
              "      <th>E</th>\n",
              "      <td>84</td>\n",
              "    </tr>\n",
              "    <tr>\n",
              "      <th>M</th>\n",
              "      <td>3</td>\n",
              "    </tr>\n",
              "    <tr>\n",
              "      <th>N</th>\n",
              "      <td>30</td>\n",
              "    </tr>\n",
              "    <tr>\n",
              "      <th>O</th>\n",
              "      <td>2</td>\n",
              "    </tr>\n",
              "    <tr>\n",
              "      <th>Q</th>\n",
              "      <td>1</td>\n",
              "    </tr>\n",
              "    <tr>\n",
              "      <th>S</th>\n",
              "      <td>4</td>\n",
              "    </tr>\n",
              "  </tbody>\n",
              "</table>\n",
              "</div>"
            ],
            "text/plain": [
              "                  predict_proba\n",
              "actual predicted               \n",
              "C      E                     84\n",
              "       M                      3\n",
              "       N                     30\n",
              "       O                      2\n",
              "       Q                      1\n",
              "       S                      4"
            ]
          },
          "metadata": {},
          "execution_count": 129
        }
      ]
    },
    {
      "cell_type": "markdown",
      "metadata": {
        "id": "4q7B3e0DMI_b"
      },
      "source": [
        "Most of the incorrectly classified 'C's were misclassified as 'E'. Below, we show the gestures C and E."
      ]
    },
    {
      "cell_type": "code",
      "metadata": {
        "id": "YwPhTBY7MFxu"
      },
      "source": [
        "def show_image(alphabet_number, image_number):\n",
        "    jpg_number = jpg_list[image_number - 1]\n",
        "    image_path = f'/content/drive/MyDrive/Colab/ASL/gestures/test/{alphabet_number}/{jpg_number}.jpg'\n",
        "    read_image = cv2.imread(image_path, 1)\n",
        "    resize_image = cv2.resize(read_image, (image_x, image_y))\n",
        "    cv2_imshow(resize_image)\n",
        "    return print(f'Alphabet: {number_to_alphabet[alphabet_number]}')\n"
      ],
      "execution_count": null,
      "outputs": []
    },
    {
      "cell_type": "code",
      "metadata": {
        "colab": {
          "base_uri": "https://localhost:8080/",
          "height": 258
        },
        "id": "QuSg1kjSMtmm",
        "outputId": "d7e226b7-b0a2-437e-a72c-ef931bde1874"
      },
      "source": [
        "show_image(3, 1)"
      ],
      "execution_count": null,
      "outputs": [
        {
          "output_type": "display_data",
          "data": {
            "image/png": "[encoded data removed]",
            "text/plain": [
              "<PIL.Image.Image image mode=RGB size=224x224 at 0x7F9BB9361F90>"
            ]
          },
          "metadata": {}
        },
        {
          "output_type": "stream",
          "name": "stdout",
          "text": [
            "Alphabet: C\n"
          ]
        }
      ]
    },
    {
      "cell_type": "code",
      "metadata": {
        "colab": {
          "base_uri": "https://localhost:8080/",
          "height": 258
        },
        "id": "osSWmBfGM6tF",
        "outputId": "acd40f26-4055-44f2-95bf-f4acb9100f12"
      },
      "source": [
        "show_image(5, 1)"
      ],
      "execution_count": null,
      "outputs": [
        {
          "output_type": "display_data",
          "data": {
            "image/png": "[encoded data removed]",
            "text/plain": [
              "<PIL.Image.Image image mode=RGB size=224x224 at 0x7F9BC08D0F90>"
            ]
          },
          "metadata": {}
        },
        {
          "output_type": "stream",
          "name": "stdout",
          "text": [
            "Alphabet: E\n"
          ]
        }
      ]
    },
    {
      "cell_type": "markdown",
      "metadata": {
        "id": "EnckghRS_7LE"
      },
      "source": [
        "As shown above, the gestures for 'C' and 'E' were very similar. Therefore, misclassifcation occurs.\n",
        "\n",
        "Meanwhile, gestures that were unique has better accuracy. Below is a table of the top 5 most accurate gestures."
      ]
    },
    {
      "cell_type": "code",
      "metadata": {
        "colab": {
          "base_uri": "https://localhost:8080/",
          "height": 235
        },
        "id": "O1CS8bIYUEDt",
        "outputId": "87372496-c1a1-4b70-ba1c-fc1e873183af"
      },
      "source": [
        "result_vgg.loc[result_vgg['actual'] == result_vgg['predicted']].groupby(\n",
        "    ['actual']).count().sort_values(by=['predicted'], ascending=False).head()"
      ],
      "execution_count": null,
      "outputs": [
        {
          "output_type": "execute_result",
          "data": {
            "text/html": [
              "<div>\n",
              "<style scoped>\n",
              "    .dataframe tbody tr th:only-of-type {\n",
              "        vertical-align: middle;\n",
              "    }\n",
              "\n",
              "    .dataframe tbody tr th {\n",
              "        vertical-align: top;\n",
              "    }\n",
              "\n",
              "    .dataframe thead th {\n",
              "        text-align: right;\n",
              "    }\n",
              "</style>\n",
              "<table border=\"1\" class=\"dataframe\">\n",
              "  <thead>\n",
              "    <tr style=\"text-align: right;\">\n",
              "      <th></th>\n",
              "      <th>predicted</th>\n",
              "      <th>predict_proba</th>\n",
              "    </tr>\n",
              "    <tr>\n",
              "      <th>actual</th>\n",
              "      <th></th>\n",
              "      <th></th>\n",
              "    </tr>\n",
              "  </thead>\n",
              "  <tbody>\n",
              "    <tr>\n",
              "      <th>R</th>\n",
              "      <td>395</td>\n",
              "      <td>395</td>\n",
              "    </tr>\n",
              "    <tr>\n",
              "      <th>Q</th>\n",
              "      <td>394</td>\n",
              "      <td>394</td>\n",
              "    </tr>\n",
              "    <tr>\n",
              "      <th>O</th>\n",
              "      <td>391</td>\n",
              "      <td>391</td>\n",
              "    </tr>\n",
              "    <tr>\n",
              "      <th>N</th>\n",
              "      <td>384</td>\n",
              "      <td>384</td>\n",
              "    </tr>\n",
              "    <tr>\n",
              "      <th>E</th>\n",
              "      <td>378</td>\n",
              "      <td>378</td>\n",
              "    </tr>\n",
              "  </tbody>\n",
              "</table>\n",
              "</div>"
            ],
            "text/plain": [
              "        predicted  predict_proba\n",
              "actual                          \n",
              "R             395            395\n",
              "Q             394            394\n",
              "O             391            391\n",
              "N             384            384\n",
              "E             378            378"
            ]
          },
          "metadata": {},
          "execution_count": 128
        }
      ]
    },
    {
      "cell_type": "markdown",
      "metadata": {
        "id": "pwOj2rW6U17p"
      },
      "source": [
        "The images which are most accurate had gestures that are more different than others. I show some of these gestures below:"
      ]
    },
    {
      "cell_type": "code",
      "metadata": {
        "colab": {
          "base_uri": "https://localhost:8080/",
          "height": 258
        },
        "id": "Mb_LF2DoU05C",
        "outputId": "066d196e-4a3e-410e-977d-c45733d045a9"
      },
      "source": [
        "show_image(15, 1)"
      ],
      "execution_count": null,
      "outputs": [
        {
          "output_type": "display_data",
          "data": {
            "image/png": "[encoded data removed]",
            "text/plain": [
              "<PIL.Image.Image image mode=RGB size=224x224 at 0x7F9BB937BDD0>"
            ]
          },
          "metadata": {}
        },
        {
          "output_type": "stream",
          "name": "stdout",
          "text": [
            "Alphabet: O\n"
          ]
        }
      ]
    },
    {
      "cell_type": "code",
      "metadata": {
        "colab": {
          "base_uri": "https://localhost:8080/",
          "height": 258
        },
        "id": "_y58eqb1VNe1",
        "outputId": "ce81985e-7829-4f89-c46f-e32fe3ef4d87"
      },
      "source": [
        "show_image(17, 1)"
      ],
      "execution_count": null,
      "outputs": [
        {
          "output_type": "display_data",
          "data": {
            "image/png": "[encoded data removed]",
            "text/plain": [
              "<PIL.Image.Image image mode=RGB size=224x224 at 0x7F9BB936A890>"
            ]
          },
          "metadata": {}
        },
        {
          "output_type": "stream",
          "name": "stdout",
          "text": [
            "Alphabet: Q\n"
          ]
        }
      ]
    },
    {
      "cell_type": "markdown",
      "metadata": {
        "id": "uFfFXnNxVg40"
      },
      "source": [
        "In general, misclassification occurs when the gestures are too similar. As such, gestures that are less similar to another gestures in the corpus are better predicted. "
      ]
    },
    {
      "cell_type": "markdown",
      "metadata": {
        "id": "QT4KQf9j_0-m"
      },
      "source": [
        "## 4.5. (Extra) Predicting Single Images\n",
        "\n",
        "Here, I made a function to predict single images. This is used just to fool around in predicting single images based on the file location."
      ]
    },
    {
      "cell_type": "code",
      "metadata": {
        "id": "JHKpzZ96vC7V"
      },
      "source": [
        "def predict_one(model_path, alphabet_number, image_number):\n",
        "    '''\n",
        "    Comparison of actual alphabet vs model prediction. Also shows image.\n",
        "\n",
        "    model_selected (str): Model used to predict\n",
        "    alphabet_number (int): Numericized alphabet based on number_to_alphabet (1-26)\n",
        "    image_number(int): Index number of selected image number (1-400)\n",
        "    '''\n",
        "\n",
        "    # Setting image size\n",
        "    image_x, image_y = 224, 224\n",
        "\n",
        "    model = load_model(model_path)\n",
        "    \n",
        "    # Column names for aggregation to dataframe\n",
        "    column_names = ['actual', 'predicted', 'predict_proba']\n",
        "\n",
        "    jpg_number = jpg_list[image_number - 1]\n",
        "\n",
        "    image_path = f'/content/drive/MyDrive/Colab/ASL/gestures/test/{alphabet_number}/{jpg_number}.jpg'\n",
        "\n",
        "    # read image\n",
        "    read_image = cv2.imread(image_path, 1)\n",
        "    resize_image = cv2.resize(read_image, (image_x, image_y))\n",
        "    cv2_imshow(resize_image)\n",
        "\n",
        "    # ACTUAL alphabet based on folder\n",
        "    actual_alphabet = number_to_alphabet[alphabet_number]\n",
        "    \n",
        "    # PREDICTED alphabet based on model\n",
        "    reshaped_image = read_image.reshape(1, 224, 224, 3)\n",
        "    predicted_index = np.argmax(model.predict(reshaped_image)[0], axis=0)\n",
        "    predicted_alphabet = number_to_alphabet_2[predicted_index + 1]\n",
        "\n",
        "    # PREDICTION probability based on model\n",
        "    predicted_probability = max(model.predict(reshaped_image)[0])\n",
        "\n",
        "    # Placing into dataframe for easier viewing\n",
        "    single_prediction = pd.DataFrame(\n",
        "        [actual_alphabet, predicted_alphabet, predicted_probability],\n",
        "        index=column_names).T\n",
        "\n",
        "    return single_prediction"
      ],
      "execution_count": null,
      "outputs": []
    },
    {
      "cell_type": "code",
      "metadata": {
        "colab": {
          "base_uri": "https://localhost:8080/",
          "height": 304
        },
        "id": "xXp33wDdfgkJ",
        "outputId": "d0d01001-10c1-4246-e69e-97d83c28f0a4"
      },
      "source": [
        "model_vgg_path = '/content/drive/MyDrive/Colab/ASL/models/vgg16.h5'\n",
        "predict_one(\n",
        "    model_path=model_vgg_path,\n",
        "    alphabet_number=1,\n",
        "    image_number=1\n",
        ")"
      ],
      "execution_count": null,
      "outputs": [
        {
          "output_type": "display_data",
          "data": {
            "image/png": "[encoded data removed]",
            "text/plain": [
              "<PIL.Image.Image image mode=RGB size=224x224 at 0x7F9BB9F4CA50>"
            ]
          },
          "metadata": {}
        },
        {
          "output_type": "execute_result",
          "data": {
            "text/html": [
              "<div>\n",
              "<style scoped>\n",
              "    .dataframe tbody tr th:only-of-type {\n",
              "        vertical-align: middle;\n",
              "    }\n",
              "\n",
              "    .dataframe tbody tr th {\n",
              "        vertical-align: top;\n",
              "    }\n",
              "\n",
              "    .dataframe thead th {\n",
              "        text-align: right;\n",
              "    }\n",
              "</style>\n",
              "<table border=\"1\" class=\"dataframe\">\n",
              "  <thead>\n",
              "    <tr style=\"text-align: right;\">\n",
              "      <th></th>\n",
              "      <th>actual</th>\n",
              "      <th>predicted</th>\n",
              "      <th>predict_proba</th>\n",
              "    </tr>\n",
              "  </thead>\n",
              "  <tbody>\n",
              "    <tr>\n",
              "      <th>0</th>\n",
              "      <td>A</td>\n",
              "      <td>A</td>\n",
              "      <td>1</td>\n",
              "    </tr>\n",
              "  </tbody>\n",
              "</table>\n",
              "</div>"
            ],
            "text/plain": [
              "  actual predicted predict_proba\n",
              "0      A         A             1"
            ]
          },
          "metadata": {},
          "execution_count": 126
        }
      ]
    },
    {
      "cell_type": "markdown",
      "metadata": {
        "id": "QxEnWaTHycJc"
      },
      "source": [
        "The function works as such: By inputting the alphabet number (1 = A, 2 = B, etc) and selecting the image_number (1 to 400), I can see whether the model was predicting the gesture correctly. Doing this helps visually identify some of the common characteristics of misclassified images from each gesture."
      ]
    },
    {
      "cell_type": "markdown",
      "metadata": {
        "id": "J-WwGhtm_udP"
      },
      "source": [
        "# Part 5: Conclusion and Recommendations\n",
        "\n",
        "## Conclusions\n",
        "\n",
        "Some conclusions from the models.\n",
        "\n",
        "Epoch size should be adjusted to the number of classes available in the dataset. As mentioned before, when I had set epoch size to 32, there was an average of 1 gesture included per batch, which caused the model to be unable to predict anything substantial. Therefore, I had increased the batch size to 256, which means that on average, there will be about 10 gestures per batch. This provided the model with greater predictive power.\n",
        "\n",
        "On the number of layers, I found that it was generally unnecessary to train the pre-trained models. As such, I had frozen the pre-trained models. Excluding the top, while including a few added layers of my own, had provided the model with greater predictive power. However, with the added layers, there was a need to adjust dropout size accordingly. A dropout too low or too high would cause the model to overfit or underfit respectively.\n",
        "\n",
        "On the model results, I found that in general, gestures that were different from others was predicted better. In creating my dataset, I had minded to prevent overfitting to the same gesture, and as such, I had rotated and shifted my hand around to provide it with some noise. As a result, somes gestures looked more similar to other gestures beyond it's original shape. However, this was a necessary trade-off because choosing not to provide some noise into the dataset would cause the models to be too strict in predicting the gestures, and thus, minute differences in gestures would result in a worse accuracy rate.\n",
        "\n",
        "Overall, this project was pretty fun for me as I explored new libraries (OpenCV, etc), which allowed me to expand my personal toolkit.\n",
        "\n",
        "## Recommendations\n",
        "\n",
        "In improving this model, there are a few things that I have in mind:      \n",
        "\n",
        "1. Increase the dataset size.\n",
        "2. Increase layers and optimize the models accordingly.\n",
        "3. Implement a live-test whereby a camera can be used to test the model in real time."
      ]
    }
  ]
}